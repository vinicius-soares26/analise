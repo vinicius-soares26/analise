{
  "cells": [
    {
      "cell_type": "code",
      "source": [
        "# comecei em que passo???\n",
        "\n",
        "analise_posterior = [\"('P3_f ', 'Tipos de uso de AI Generativa e LLMs na empresa')\", \"('P3_e ', 'AI Generativa é uma prioridade em sua empresa?')\", \"('P4_f ', 'Entre as linguagens listadas abaixo, qual é a sua preferida?')\",\n",
        "                     \"('P4_i ', 'Cloud preferida')\", \"('P4_k ', 'Qual sua ferramenta de BI preferida?')\"]\n",
        "\n",
        "grupo_posterior = [\"('P3_g ', 'Motivos que levam a empresa a não usar AI Genrativa e LLMs')\", \"('P4_l ', 'Qual o tipo de uso de AI Generativa e LLMs na empresa')\", \"('P4_m ', 'Utiliza ChatGPT ou LLMs no trabalho?')\",\n",
        "                   ]\n",
        "# P8_3 (tecnologias) respostas estao como P8_c\n",
        "\n",
        "\n",
        "# P6 data engineer, P7 cientista/analista de dados\n",
        "grupao_posterior = [\"P5\", \"P6\", \"P7\", \"P8\"]"
      ],
      "metadata": {
        "id": "8FusmvPZ-o67"
      },
      "execution_count": null,
      "outputs": []
    },
    {
      "cell_type": "markdown",
      "source": [
        "# Modelo de Precificacao de Salario em Reais\n",
        "\n",
        "## Etapa 1 - dados dos profissionais de dados limpos e processados\n",
        "- filtro de cargos (cientista de dados, engenheiro de dados, analistas de dados, estatisticos , eng de ML.\n",
        "- dados da vaga\n",
        "- dados da pessoa\n",
        "- apenas variaveis binarias 0-1, e variaveis numericas transformadas por MINMAX\n",
        "\n",
        "## Etapa 2 - ajuste de um modelo (holdout repetido - metrica EQM)\n",
        "- analisar o melhor KNN\n",
        "- analisar a melhor arvore\n",
        "produz dois modelos\n",
        "(dois arquivos pickle)\n",
        "\n",
        "## Etapa 3 - streamlit para acessar os modelos\n"
      ],
      "metadata": {
        "id": "tHILRIGpYETF"
      }
    },
    {
      "cell_type": "code",
      "source": [
        "import pandas as pd\n",
        "import numpy as np\n",
        "import seaborn as sns\n",
        "import matplotlib.pyplot as plt\n",
        "\n",
        "link = 'https://raw.githubusercontent.com/ricardorocha86/Datasets/refs/heads/master/State_of_data_BR_2023_Kaggle%20-%20df_survey_2023.csv'\n",
        "df_o = pd.read_csv(link)\n",
        "df = df_o.copy()"
      ],
      "metadata": {
        "id": "JrItNhM9rKdi"
      },
      "execution_count": 101,
      "outputs": []
    },
    {
      "cell_type": "code",
      "source": [
        "x = pd.get_dummies(df[\"('P2_g ', 'Nivel')\"])\n",
        "x"
      ],
      "metadata": {
        "id": "9pW_Wv1scw59"
      },
      "execution_count": null,
      "outputs": []
    },
    {
      "cell_type": "markdown",
      "source": [
        "df.rename(columns={\"('P1_a ', 'Idade')\": 'Idade', \"('P1_c ', 'Cor/raca/etnia')\": 'Etnia',\n",
        "                   \"('P1_b ', 'Genero')\": 'Gênero', \"('P2_f ', 'Cargo Atual')\": 'Cargo',\n",
        "                   \"('P2_h ', 'Faixa salarial')\": 'Faixa salarial', \"('P2_g ', 'Nivel')\": 'Nível',\n",
        "                   \"('P1_l ', 'Nivel de Ensino')\": 'Escolaridade', \"('P1_m ', 'Área de Formação')\": 'Área',\n",
        "                   \"('P2_i ', 'Quanto tempo de experiência na área de dados você tem?')\": 'Experiência'\n",
        "                   }, inplace=True)\n",
        "df['Contagem'] = 1"
      ],
      "metadata": {
        "id": "dQY0D5xXE70Q"
      }
    },
    {
      "cell_type": "code",
      "source": [
        "class Printador:\n",
        "    def __init__(self, df, passo, janela=10):\n",
        "        self.passo = passo\n",
        "        self.janela = janela\n",
        "        self.df = df\n",
        "\n",
        "    def printar(self, tipo = 'head'):\n",
        "        a = (self.passo - 1) * self.janela\n",
        "        b = self.passo * self.janela\n",
        "\n",
        "        if tipo == 'head':\n",
        "            print(self.df.iloc[:5, a:b])\n",
        "        elif tipo == 'colunas':\n",
        "            print(self.df.columns[a:b])\n",
        "        else:\n",
        "            print(\"Escolha um tipo váido entre 'head' ou 'colunas'\")\n",
        "\n",
        "        self.passo += 1\n",
        "\n",
        "    def resetar_passo(self, passo):\n",
        "        self.passo = passo\n",
        "\n",
        "    def printar_passo(self):\n",
        "        print(self.passo)"
      ],
      "metadata": {
        "id": "s1x_N51D5Z4V"
      },
      "execution_count": null,
      "outputs": []
    },
    {
      "cell_type": "code",
      "source": [
        "printador = Printador(df_o, passo = 1)"
      ],
      "metadata": {
        "id": "BixPvOdS5gPU"
      },
      "execution_count": null,
      "outputs": []
    },
    {
      "cell_type": "code",
      "source": [
        "Printador"
      ],
      "metadata": {
        "id": "93UmQ34H2VOt",
        "outputId": "f3485aca-a245-42a4-b505-9e6114dfd9fb",
        "colab": {
          "base_uri": "https://localhost:8080/",
          "height": 104
        }
      },
      "execution_count": null,
      "outputs": [
        {
          "output_type": "execute_result",
          "data": {
            "text/plain": [
              "__main__.Printador"
            ],
            "text/html": [
              "<div style=\"max-width:800px; border: 1px solid var(--colab-border-color);\"><style>\n",
              "      pre.function-repr-contents {\n",
              "        overflow-x: auto;\n",
              "        padding: 8px 12px;\n",
              "        max-height: 500px;\n",
              "      }\n",
              "\n",
              "      pre.function-repr-contents.function-repr-contents-collapsed {\n",
              "        cursor: pointer;\n",
              "        max-height: 100px;\n",
              "      }\n",
              "    </style>\n",
              "    <pre style=\"white-space: initial; background:\n",
              "         var(--colab-secondary-surface-color); padding: 8px 12px;\n",
              "         border-bottom: 1px solid var(--colab-border-color);\"><b>Printador</b><br/>def __init__(df, passo, janela=10)</pre><pre class=\"function-repr-contents function-repr-contents-collapsed\" style=\"\"><a class=\"filepath\" style=\"display:none\" href=\"#\"></a>&lt;no docstring&gt;</pre></div>"
            ]
          },
          "metadata": {},
          "execution_count": 2
        }
      ]
    },
    {
      "cell_type": "code",
      "source": [
        "printador.printar('colunas')\n",
        "#printador.resetar_passo(20)\n",
        "#dhj"
      ],
      "metadata": {
        "colab": {
          "base_uri": "https://localhost:8080/"
        },
        "id": "z2SUnXl4aRfN",
        "outputId": "261eb5ce-cb34-4a72-9b8e-1e5aea4829b2"
      },
      "execution_count": null,
      "outputs": [
        {
          "output_type": "stream",
          "name": "stdout",
          "text": [
            "Index(['('P4_l_1 ', 'Colaboradores usando AI generativa de forma independente e descentralizada')',\n",
            "       '('P4_l_2 ', 'Direcionamento centralizado do uso de AI generativa')',\n",
            "       '('P4_l_3 ', 'Desenvolvedores utilizando Copilots')',\n",
            "       '('P4_l_4 ', 'AI Generativa e LLMs para melhorar produtos externos para os clientes finais')',\n",
            "       '('P4_l_5 ', 'AI Generativa e LLMs para melhorar produtos internos para os colaboradores')',\n",
            "       '('P4_l_6 ', 'IA Generativa e LLMs como principal frente do negócio')',\n",
            "       '('P4_l_7 ', 'IA Generativa e LLMs não é prioridade')',\n",
            "       '('P4_l_8 ', 'Não sei opinar sobre o uso de IA Generativa e LLMs na empresa')',\n",
            "       '('P4_m ', 'Utiliza ChatGPT ou LLMs no trabalho?')',\n",
            "       '('P4_m_1 ', 'Não uso soluções de AI Generativa com foco em produtividade')'],\n",
            "      dtype='object')\n"
          ]
        }
      ]
    },
    {
      "cell_type": "code",
      "source": [
        "grupo_duvida = [\"('P6_b ', 'Quais as ferramentas/tecnologias de ETL que você utiliza no trabalho como Data Engineer?')\",\n",
        "                \"('P7_b ', 'Quais as ferramentas/tecnologias de ETL que você utiliza no trabalho como Data Analyst?')\", ]"
      ],
      "metadata": {
        "id": "7zmdXYyD7UII"
      },
      "execution_count": null,
      "outputs": []
    },
    {
      "cell_type": "code",
      "source": [
        "grupos_perguntas = [\"('P4_d ', 'Quais das linguagens listadas abaixo você utiliza no trabalho?')\", \"('P4_g ', 'Quais dos bancos de dados/fontes de dados listados abaixo você utiliza no trabalho?')\",\n",
        "                    \"('P4_h ', 'Dentre as opções listadas, qual sua Cloud preferida?')\", \"('P4_j ', 'Ferramenta de BI utilizada no dia a dia')\"]"
      ],
      "metadata": {
        "id": "Ni5se119L4aZ"
      },
      "execution_count": null,
      "outputs": []
    },
    {
      "cell_type": "code",
      "source": [
        "colunas_a_retirar = []\n",
        "\n",
        "for col in df_ml.columns:\n",
        "    if any(colunas_chave in col for colunas_chave in colunas_chave) and df_ml[col].sum() == 0:\n",
        "        colunas_a_retirar.append(col)\n",
        "colunas_a_retirar\n",
        "df_ml.drop(columns=colunas_a_retirar, inplace=True)"
      ],
      "metadata": {
        "colab": {
          "base_uri": "https://localhost:8080/"
        },
        "id": "FTS3ozu1v2lI",
        "outputId": "0fe40446-1538-479f-f172-e42080fbe969"
      },
      "execution_count": 5,
      "outputs": [
        {
          "output_type": "execute_result",
          "data": {
            "text/plain": [
              "[]"
            ]
          },
          "metadata": {},
          "execution_count": 5
        }
      ]
    },
    {
      "cell_type": "code",
      "source": [
        "linguagens, dic_linguagens = transformar_multiresposta(df, \"('P4_d ', 'Quais das linguagens listadas abaixo você utiliza no trabalho?')\", 'linguagem')\n",
        "clouds, dic_clouds = transformar_multiresposta(df, \"('P4_h ', 'Dentre as opções listadas, qual sua Cloud preferida?')\", 'cloud')\n",
        "bi, dic_bi = transformar_multiresposta(df, \"('P4_j ', 'Ferramenta de BI utilizada no dia a dia')\", 'bi')\n",
        "\n",
        "df_ml = pd.concat([df_ml, linguagens, clouds, bi], axis=1)\n"
      ],
      "metadata": {
        "id": "egguj8wHQAP8"
      },
      "execution_count": null,
      "outputs": []
    },
    {
      "cell_type": "code",
      "source": [
        "dic_linguagens"
      ],
      "metadata": {
        "colab": {
          "base_uri": "https://localhost:8080/"
        },
        "id": "hPPoDmf0UO3-",
        "outputId": "98595b39-4a20-436a-e730-6f06eeb80e86"
      },
      "execution_count": null,
      "outputs": [
        {
          "output_type": "execute_result",
          "data": {
            "text/plain": [
              "{'linguagem_.NET': '.NET',\n",
              " 'linguagem_C/C++/C#': 'C/C++/C#',\n",
              " 'linguagem_Java': 'Java',\n",
              " 'linguagem_JavaScript': 'JavaScript',\n",
              " 'linguagem_Julia': 'Julia',\n",
              " 'linguagem_Matlab': ' Matlab',\n",
              " 'linguagem_Não_utilizo_nenhuma_das_linguagens_listadas': 'Não utilizo nenhuma das linguagens listadas',\n",
              " 'linguagem_PHP': 'PHP',\n",
              " 'linguagem_Python': 'Python',\n",
              " 'linguagem_R': 'R',\n",
              " 'linguagem_Rust': ' Rust',\n",
              " 'linguagem_SAS/Stata': 'SAS/Stata',\n",
              " 'linguagem_SQL': 'SQL',\n",
              " 'linguagem_Scala': 'Scala',\n",
              " 'linguagem_Visual_Basic/VBA': 'Visual Basic/VBA'}"
            ]
          },
          "metadata": {},
          "execution_count": 112
        }
      ]
    },
    {
      "cell_type": "code",
      "source": [
        "def transformar_respostas(dic_original, resposta_usuario):\n",
        "    inverso = {v: k for k, v in dic_original.items()}\n",
        "\n",
        "    alimentar_modelo = {k: 0 for k in dic_original.keys()}\n",
        "\n",
        "    for linguagem in resposta_usuario:\n",
        "        alimentar_modelo[inverso[linguagem]] = 1\n",
        "\n",
        "    return alimentar_modelo\n",
        "\n",
        "teste = transformar_respostas(dic_linguagens, ['Python', 'R'])\n",
        "teste"
      ],
      "metadata": {
        "colab": {
          "base_uri": "https://localhost:8080/"
        },
        "id": "i1l7BtrBXRHP",
        "outputId": "3ae00508-1a76-41d2-d45d-ca10b3267396"
      },
      "execution_count": null,
      "outputs": [
        {
          "output_type": "execute_result",
          "data": {
            "text/plain": [
              "{'linguagem_.NET': 0,\n",
              " 'linguagem_C/C++/C#': 0,\n",
              " 'linguagem_Java': 0,\n",
              " 'linguagem_JavaScript': 0,\n",
              " 'linguagem_Julia': 0,\n",
              " 'linguagem_Matlab': 0,\n",
              " 'linguagem_Não_utilizo_nenhuma_das_linguagens_listadas': 0,\n",
              " 'linguagem_PHP': 0,\n",
              " 'linguagem_Python': 1,\n",
              " 'linguagem_R': 1,\n",
              " 'linguagem_Rust': 0,\n",
              " 'linguagem_SAS/Stata': 0,\n",
              " 'linguagem_SQL': 0,\n",
              " 'linguagem_Scala': 0,\n",
              " 'linguagem_Visual_Basic/VBA': 0}"
            ]
          },
          "metadata": {},
          "execution_count": 12
        }
      ]
    },
    {
      "cell_type": "code",
      "source": [
        "mapa_cargos = {\n",
        "    'Analista de Negócios/Business Analyst': 'Analista de BI',\n",
        "    'Analista de BI/BI Analyst': 'Analista de BI',\n",
        "    'Analista de Inteligência de Mercado/Market Intelligence': 'Analista de BI',\n",
        "\n",
        "    'Analista de Dados/Data Analyst': 'Analista de Dados',\n",
        "    'Analytics Engineer': 'Analista de Dados',\n",
        "\n",
        "    'Cientista de Dados/Data Scientist': 'Cientista de Dados',\n",
        "    'Engenheiro de Machine Learning/ML Engineer/AI Engineer': 'Cientista de Dados',\n",
        "    'Estatístico' : 'Cientista de Dados',\n",
        "\n",
        "    'Engenheiro de Dados/Arquiteto de Dados/Data Engineer/Data Architect': 'Engenheiro de Dados',\n",
        "    'DBA/Administrador de Banco de Dados': 'Engenheiro de Dados',\n",
        "\n",
        "    'Data Product Manager/ Product Manager (PM/APM/DPM/GPM/PO)': 'Outra Opção',\n",
        "    'Outra Opção': 'Outra Opção',\n",
        "    'Outras Engenharias (não inclui dev)': 'Outra Opção',\n",
        "    'Analista de Suporte/Analista Técnico': 'Outra Opção',\n",
        "    'Desenvolvedor/ Engenheiro de Software/ Analista de Sistemas': 'Outra Opção',\n",
        "    'Economista': 'Outra Opção',\n",
        "    'Professor/Pesquisador': 'Outra Opção'\n",
        "}\n",
        "\n",
        "df['Cargo'] = df[\"('P2_f ', 'Cargo Atual')\"].map(mapa_cargos).fillna('Outra Opção')\n",
        "\n",
        "df = df[df['Cargo'] != 'Outra Opção']\n",
        "\n",
        "colunas_manter = [\n",
        "    \"('P1_a ', 'Idade')\",\n",
        "    \"('P1_i ', 'Estado onde mora')\",\n",
        "    \"('P1_l ', 'Nivel de Ensino')\",\n",
        "    \"('P1_m ', 'Área de Formação')\",\n",
        "    \"('P2_g ', 'Nivel')\",\n",
        "    \"('P2_i ', 'Quanto tempo de experiência na área de dados você tem?')\",\n",
        "    \"('P2_a ', 'Qual sua situação atual de trabalho?')\",\n",
        "    \"('P2_c ', 'Numero de Funcionarios')\",\n",
        "    \"('P2_b ', 'Setor')\",\n",
        "    \"('P2_r ', 'Atualmente qual a sua forma de trabalho?')\"\n",
        "]\n",
        "\n",
        "y_col = [\"('P2_h ', 'Faixa salarial')\"]\n",
        "\n",
        "prefixos_chave = [\"P4_d_\", \"P4_g_\", \"P4_h_\", \"P4_j_\"]\n",
        "\n",
        "colunas_a_pegar = [col for col in df.columns if any(prefixo in col for prefixo in prefixos_chave)]\n",
        "\n",
        "\n",
        "df_ml = df[y_col + colunas_manter + ['Cargo'] + colunas_a_pegar].copy()\n",
        "\n",
        "colunas_renomeadas = [col.split(\", \")[1].strip(\"')\") for col in (y_col + colunas_manter)]\n",
        "\n",
        "df_ml.columns = colunas_renomeadas + ['Cargo'] + colunas_a_pegar\n",
        "\n",
        "df_ml['Faixa salarial'] = df_ml['Faixa salarial'].replace('de R$ 101/mês a R$ 2.000/mês', 'de R$ 1.001/mês a R$ 2.000/mês')\n",
        "df_ml['Quanto tempo de experiência na área de dados você tem?'] = df_ml['Quanto tempo de experiência na área de dados você tem?'].replace('de 5 a 6 anos', 'de 4 a 6 anos')"
      ],
      "metadata": {
        "id": "yUP4O11R7DRp"
      },
      "execution_count": 102,
      "outputs": []
    },
    {
      "cell_type": "markdown",
      "source": [
        "precisa dumizar pro caso de arvores? as categorias ordinais não seriam vistas de forma linear??"
      ],
      "metadata": {
        "id": "wh20VDzcUT6Z"
      }
    },
    {
      "cell_type": "code",
      "source": [
        "def renomear_coluna(col):\n",
        "    prefix_map = {\n",
        "        'P4_j_': 'BI_',\n",
        "        'P4_h_': 'Cloud_',\n",
        "        'P4_g_': 'Banco_',\n",
        "        'P4_d_': 'Linguagens_'\n",
        "    }\n",
        "\n",
        "    # Limpa a string removendo parênteses e aspas\n",
        "    col = col.strip(\"()\").strip(\"'\").strip('\"')\n",
        "\n",
        "    partes = col.split(\", \")\n",
        "    if len(partes) < 2:\n",
        "        return col  # não está no formato esperado\n",
        "\n",
        "    chave = partes[0].strip(\"'\").strip('\"')\n",
        "    nome = partes[1].strip(\"'\").strip('\"')\n",
        "\n",
        "    for prefixo_original, novo_prefixo in prefix_map.items():\n",
        "        if chave.startswith(prefixo_original):\n",
        "            return f\"{novo_prefixo}{nome}\"\n",
        "\n",
        "    return col  # se não bate com nenhum prefixo\n",
        "\n",
        "\n",
        "df_ml.columns = [renomear_coluna(col) for col in df_ml.columns]"
      ],
      "metadata": {
        "id": "xmloJYZ9IE_h"
      },
      "execution_count": 103,
      "outputs": []
    },
    {
      "cell_type": "markdown",
      "source": [
        "oq fazer com esses nas?? remover (ou imputar?) todas as linhas da faixa e substituir das outras colunas por alguma categoria?"
      ],
      "metadata": {
        "id": "8RhE2oTNfjMk"
      }
    },
    {
      "cell_type": "code",
      "source": [
        "# 3156 vs 2997\n",
        "df_teste = df_ml[colunas_renomeadas + ['Cargo']].copy()\n",
        "\n",
        "df_ml = df_ml.dropna(subset=colunas_renomeadas + ['Cargo'])"
      ],
      "metadata": {
        "id": "EHIkD9OAdyTu"
      },
      "execution_count": 123,
      "outputs": []
    },
    {
      "cell_type": "code",
      "source": [
        "# Set pandas to display all rows without truncation\n",
        "import pandas as pd\n",
        "pd.set_option('display.max_rows', None)\n",
        "\n",
        "# Print columns with NaN values\n",
        "print(df_ml.isna().sum()[df_ml.isna().sum() > 0])\n",
        "\n",
        "# Optionally, reset the display option after the print\n",
        "pd.reset_option('display.max_rows')\n"
      ],
      "metadata": {
        "colab": {
          "base_uri": "https://localhost:8080/"
        },
        "id": "ljlOdYFPVcAR",
        "outputId": "538f52bd-941b-4b87-a30a-86687e8e6206"
      },
      "execution_count": 127,
      "outputs": [
        {
          "output_type": "stream",
          "name": "stdout",
          "text": [
            "Linguagens_SQL                                                                  64\n",
            "Linguagens_R                                                                    64\n",
            "Linguagens_Python                                                               64\n",
            "Linguagens_C/C++/C#                                                             64\n",
            "Linguagens_.NET                                                                 64\n",
            "Linguagens_Java                                                                 64\n",
            "Linguagens_Julia                                                                64\n",
            "Linguagens_SAS/Stata                                                            64\n",
            "Linguagens_Visual Basic/VBA                                                     64\n",
            "Linguagens_Scala                                                                64\n",
            "Linguagens_Matlab                                                               64\n",
            "Linguagens_Rust                                                                 64\n",
            "Linguagens_PHP                                                                  64\n",
            "Linguagens_JavaScript                                                           64\n",
            "Linguagens_Não utilizo nenhuma linguagem                                        64\n",
            "Banco_MySQL                                                                     64\n",
            "Banco_Oracle                                                                    64\n",
            "Banco_SQL SERVER                                                                64\n",
            "Banco_Amazon Aurora ou RDS                                                      64\n",
            "Banco_DynamoDB                                                                  64\n",
            "Banco_CoachDB                                                                   64\n",
            "Banco_Cassandra                                                                 64\n",
            "Banco_MongoDB                                                                   64\n",
            "Banco_MariaDB                                                                   64\n",
            "Banco_Datomic                                                                   64\n",
            "Banco_S3                                                                        64\n",
            "Banco_PostgreSQL                                                                64\n",
            "Banco_ElasticSearch                                                             64\n",
            "Banco_DB2                                                                       64\n",
            "Banco_Microsoft Access                                                          64\n",
            "Banco_SQLite                                                                    64\n",
            "Banco_Sybase                                                                    64\n",
            "Banco_Firebase                                                                  64\n",
            "Banco_Vertica                                                                   64\n",
            "Banco_Redis                                                                     64\n",
            "Banco_Neo4J                                                                     64\n",
            "Banco_Google BigQuery                                                           64\n",
            "Banco_Google Firestore                                                          64\n",
            "Banco_Amazon Redshift                                                           64\n",
            "Banco_Amazon Athena                                                             64\n",
            "Banco_Snowflake                                                                 64\n",
            "Banco_Databricks                                                                64\n",
            "Banco_HBase                                                                     64\n",
            "Banco_Presto                                                                    64\n",
            "Banco_Splunk                                                                    64\n",
            "Banco_SAP HANA                                                                  64\n",
            "Banco_Hive                                                                      64\n",
            "Banco_Firebird                                                                  64\n",
            "Cloud_Azure (Microsoft)                                                        159\n",
            "Cloud_Amazon Web Services (AWS)                                                159\n",
            "Cloud_Google Cloud (GCP)                                                       159\n",
            "Cloud_Oracle Cloud                                                             159\n",
            "Cloud_IBM                                                                      159\n",
            "Cloud_Servidores On Premise/Não utilizamos Cloud                               159\n",
            "Cloud_Cloud Própria                                                            159\n",
            "BI_Microsoft PowerBI                                                            64\n",
            "BI_Qlik View/Qlik Sense                                                         64\n",
            "BI_Tableau                                                                      64\n",
            "BI_Metabase                                                                     64\n",
            "BI_Superset                                                                     64\n",
            "BI_Redash                                                                       64\n",
            "BI_Looker                                                                       64\n",
            "BI_Looker Studio(Google Data Studio)                                            64\n",
            "BI_Amazon Quicksight                                                            64\n",
            "BI_Mode                                                                         64\n",
            "BI_Alteryx                                                                      64\n",
            "BI_MicroStrategy                                                                64\n",
            "BI_IBM Analytics/Cognos                                                         64\n",
            "BI_SAP Business Objects/SAP Analytics                                           64\n",
            "BI_Oracle Business Intelligence                                                 64\n",
            "BI_Salesforce/Einstein Analytics                                                64\n",
            "BI_Birst                                                                        64\n",
            "BI_SAS Visual Analytics                                                         64\n",
            "BI_Grafana                                                                      64\n",
            "BI_TIBCO Spotfire                                                               64\n",
            "BI_Pentaho                                                                      64\n",
            "BI_Fazemos todas as análises utilizando apenas Excel ou planilhas do google     64\n",
            "BI_Não utilizo nenhuma ferramenta de BI no trabalho                             64\n",
            "dtype: int64\n"
          ]
        }
      ]
    },
    {
      "cell_type": "code",
      "source": [
        "colunas_categoricas = [\n",
        "    'Estado onde mora', 'Nivel de Ensino', 'Área de Formação', 'Nivel',\n",
        "    'Quanto tempo de experiência na área de dados você tem?',\n",
        "    'Qual sua situação atual de trabalho?', 'Numero de Funcionarios',\n",
        "    'Setor', 'Atualmente qual a sua forma de trabalho?', 'Cargo'\n",
        "]\n",
        "df_ml[colunas_categoricas] = df_ml[colunas_categoricas].astype(str)\n",
        "df_final = pd.get_dummies(df_ml, columns=colunas_categoricas, drop_first=False)\n"
      ],
      "metadata": {
        "id": "vd894qudQK5t"
      },
      "execution_count": 129,
      "outputs": []
    },
    {
      "cell_type": "code",
      "source": [
        "mapeamento_salarios = {\n",
        "    'Menos de R$ 1.000/mês': 800,\n",
        "    'de R$ 1.001/mês a R$ 2.000/mês': 1500,\n",
        "    'de R$ 2.001/mês a R$ 3.000/mês': 2500,\n",
        "    'de R$ 3.001/mês a R$ 4.000/mês': 3500,\n",
        "    'de R$ 4.001/mês a R$ 6.000/mês': 5000,\n",
        "    'de R$ 6.001/mês a R$ 8.000/mês': 7000,\n",
        "    'de R$ 8.001/mês a R$ 12.000/mês': 10000,\n",
        "    'de R$ 12.001/mês a R$ 16.000/mês': 14000,\n",
        "    'de R$ 16.001/mês a R$ 20.000/mês': 18000,\n",
        "    'de R$ 20.001/mês a R$ 25.000/mês': 22500,\n",
        "    'de R$ 25.001/mês a R$ 30.000/mês': 27500,\n",
        "    'de R$ 30.001/mês a R$ 40.000/mês': 35000,\n",
        "    'Acima de R$ 40.001/mês': 45000\n",
        "}\n",
        "\n",
        "df_final['Faixa salarial'] = df_final['Faixa salarial'].map(mapeamento_salarios)"
      ],
      "metadata": {
        "colab": {
          "base_uri": "https://localhost:8080/",
          "height": 599
        },
        "id": "2m1w5H01RD_b",
        "outputId": "ea364829-db84-459f-8df6-d5987eab8052"
      },
      "execution_count": 131,
      "outputs": [
        {
          "output_type": "execute_result",
          "data": {
            "text/plain": [
              "      Faixa salarial  Idade  Linguagens_SQL  Linguagens_R   Linguagens_Python  \\\n",
              "0              14000     31             1.0            0.0                1.0   \n",
              "1               7000     30             1.0            0.0                1.0   \n",
              "2               7000     37             1.0            0.0                1.0   \n",
              "4               5000     34             1.0            0.0                1.0   \n",
              "5              10000     30             1.0            0.0                1.0   \n",
              "...              ...    ...             ...            ...                ...   \n",
              "5283           27500     30             1.0            0.0                1.0   \n",
              "5286           14000     37             1.0            0.0                1.0   \n",
              "5287           10000     28             1.0            0.0                1.0   \n",
              "5289           10000     32             1.0            0.0                1.0   \n",
              "5290           10000     25             1.0            0.0                1.0   \n",
              "\n",
              "      Linguagens_C/C++/C#  Linguagens_.NET  Linguagens_Java  Linguagens_Julia  \\\n",
              "0                     0.0              0.0              0.0               0.0   \n",
              "1                     0.0              0.0              0.0               0.0   \n",
              "2                     0.0              0.0              0.0               0.0   \n",
              "4                     0.0              0.0              0.0               0.0   \n",
              "5                     0.0              0.0              0.0               0.0   \n",
              "...                   ...              ...              ...               ...   \n",
              "5283                  0.0              0.0              0.0               0.0   \n",
              "5286                  0.0              0.0              0.0               0.0   \n",
              "5287                  0.0              0.0              0.0               0.0   \n",
              "5289                  0.0              0.0              0.0               0.0   \n",
              "5290                  0.0              0.0              0.0               0.0   \n",
              "\n",
              "      Linguagens_SAS/Stata  ...  Setor_Área da Saúde  \\\n",
              "0                      0.0  ...                False   \n",
              "1                      0.0  ...                False   \n",
              "2                      1.0  ...                False   \n",
              "4                      0.0  ...                False   \n",
              "5                      0.0  ...                False   \n",
              "...                    ...  ...                  ...   \n",
              "5283                   0.0  ...                False   \n",
              "5286                   0.0  ...                False   \n",
              "5287                   0.0  ...                False   \n",
              "5289                   0.0  ...                False   \n",
              "5290                   0.0  ...                False   \n",
              "\n",
              "      Setor_Área de Consultoria  \\\n",
              "0                         False   \n",
              "1                         False   \n",
              "2                         False   \n",
              "4                         False   \n",
              "5                         False   \n",
              "...                         ...   \n",
              "5283                      False   \n",
              "5286                      False   \n",
              "5287                      False   \n",
              "5289                      False   \n",
              "5290                      False   \n",
              "\n",
              "      Atualmente qual a sua forma de trabalho?_Modelo 100% presencial  \\\n",
              "0                                                 False                 \n",
              "1                                                 False                 \n",
              "2                                                 False                 \n",
              "4                                                 False                 \n",
              "5                                                 False                 \n",
              "...                                                 ...                 \n",
              "5283                                              False                 \n",
              "5286                                              False                 \n",
              "5287                                              False                 \n",
              "5289                                              False                 \n",
              "5290                                              False                 \n",
              "\n",
              "      Atualmente qual a sua forma de trabalho?_Modelo 100% remoto  \\\n",
              "0                                                 False             \n",
              "1                                                  True             \n",
              "2                                                 False             \n",
              "4                                                  True             \n",
              "5                                                  True             \n",
              "...                                                 ...             \n",
              "5283                                               True             \n",
              "5286                                               True             \n",
              "5287                                              False             \n",
              "5289                                               True             \n",
              "5290                                              False             \n",
              "\n",
              "      Atualmente qual a sua forma de trabalho?_Modelo híbrido com dias fixos de trabalho presencial  \\\n",
              "0                                                 False                                               \n",
              "1                                                 False                                               \n",
              "2                                                 False                                               \n",
              "4                                                 False                                               \n",
              "5                                                 False                                               \n",
              "...                                                 ...                                               \n",
              "5283                                              False                                               \n",
              "5286                                              False                                               \n",
              "5287                                              False                                               \n",
              "5289                                              False                                               \n",
              "5290                                              False                                               \n",
              "\n",
              "      Atualmente qual a sua forma de trabalho?_Modelo híbrido flexível (o funcionário tem liberdade para escolher quando estar no escritório presencialmente)  \\\n",
              "0                                                  True                                                                                                         \n",
              "1                                                 False                                                                                                         \n",
              "2                                                  True                                                                                                         \n",
              "4                                                 False                                                                                                         \n",
              "5                                                 False                                                                                                         \n",
              "...                                                 ...                                                                                                         \n",
              "5283                                              False                                                                                                         \n",
              "5286                                              False                                                                                                         \n",
              "5287                                               True                                                                                                         \n",
              "5289                                              False                                                                                                         \n",
              "5290                                               True                                                                                                         \n",
              "\n",
              "      Cargo_Analista de BI  Cargo_Analista de Dados  Cargo_Cientista de Dados  \\\n",
              "0                    False                    False                      True   \n",
              "1                     True                    False                     False   \n",
              "2                    False                     True                     False   \n",
              "4                    False                     True                     False   \n",
              "5                    False                    False                     False   \n",
              "...                    ...                      ...                       ...   \n",
              "5283                 False                     True                     False   \n",
              "5286                 False                     True                     False   \n",
              "5287                 False                    False                      True   \n",
              "5289                 False                    False                      True   \n",
              "5290                  True                    False                     False   \n",
              "\n",
              "      Cargo_Engenheiro de Dados  \n",
              "0                         False  \n",
              "1                         False  \n",
              "2                         False  \n",
              "4                         False  \n",
              "5                          True  \n",
              "...                         ...  \n",
              "5283                      False  \n",
              "5286                      False  \n",
              "5287                      False  \n",
              "5289                      False  \n",
              "5290                      False  \n",
              "\n",
              "[3156 rows x 176 columns]"
            ],
            "text/html": [
              "\n",
              "  <div id=\"df-508acf77-d238-4714-b1d1-b98916c185c8\" class=\"colab-df-container\">\n",
              "    <div>\n",
              "<style scoped>\n",
              "    .dataframe tbody tr th:only-of-type {\n",
              "        vertical-align: middle;\n",
              "    }\n",
              "\n",
              "    .dataframe tbody tr th {\n",
              "        vertical-align: top;\n",
              "    }\n",
              "\n",
              "    .dataframe thead th {\n",
              "        text-align: right;\n",
              "    }\n",
              "</style>\n",
              "<table border=\"1\" class=\"dataframe\">\n",
              "  <thead>\n",
              "    <tr style=\"text-align: right;\">\n",
              "      <th></th>\n",
              "      <th>Faixa salarial</th>\n",
              "      <th>Idade</th>\n",
              "      <th>Linguagens_SQL</th>\n",
              "      <th>Linguagens_R</th>\n",
              "      <th>Linguagens_Python</th>\n",
              "      <th>Linguagens_C/C++/C#</th>\n",
              "      <th>Linguagens_.NET</th>\n",
              "      <th>Linguagens_Java</th>\n",
              "      <th>Linguagens_Julia</th>\n",
              "      <th>Linguagens_SAS/Stata</th>\n",
              "      <th>...</th>\n",
              "      <th>Setor_Área da Saúde</th>\n",
              "      <th>Setor_Área de Consultoria</th>\n",
              "      <th>Atualmente qual a sua forma de trabalho?_Modelo 100% presencial</th>\n",
              "      <th>Atualmente qual a sua forma de trabalho?_Modelo 100% remoto</th>\n",
              "      <th>Atualmente qual a sua forma de trabalho?_Modelo híbrido com dias fixos de trabalho presencial</th>\n",
              "      <th>Atualmente qual a sua forma de trabalho?_Modelo híbrido flexível (o funcionário tem liberdade para escolher quando estar no escritório presencialmente)</th>\n",
              "      <th>Cargo_Analista de BI</th>\n",
              "      <th>Cargo_Analista de Dados</th>\n",
              "      <th>Cargo_Cientista de Dados</th>\n",
              "      <th>Cargo_Engenheiro de Dados</th>\n",
              "    </tr>\n",
              "  </thead>\n",
              "  <tbody>\n",
              "    <tr>\n",
              "      <th>0</th>\n",
              "      <td>14000</td>\n",
              "      <td>31</td>\n",
              "      <td>1.0</td>\n",
              "      <td>0.0</td>\n",
              "      <td>1.0</td>\n",
              "      <td>0.0</td>\n",
              "      <td>0.0</td>\n",
              "      <td>0.0</td>\n",
              "      <td>0.0</td>\n",
              "      <td>0.0</td>\n",
              "      <td>...</td>\n",
              "      <td>False</td>\n",
              "      <td>False</td>\n",
              "      <td>False</td>\n",
              "      <td>False</td>\n",
              "      <td>False</td>\n",
              "      <td>True</td>\n",
              "      <td>False</td>\n",
              "      <td>False</td>\n",
              "      <td>True</td>\n",
              "      <td>False</td>\n",
              "    </tr>\n",
              "    <tr>\n",
              "      <th>1</th>\n",
              "      <td>7000</td>\n",
              "      <td>30</td>\n",
              "      <td>1.0</td>\n",
              "      <td>0.0</td>\n",
              "      <td>1.0</td>\n",
              "      <td>0.0</td>\n",
              "      <td>0.0</td>\n",
              "      <td>0.0</td>\n",
              "      <td>0.0</td>\n",
              "      <td>0.0</td>\n",
              "      <td>...</td>\n",
              "      <td>False</td>\n",
              "      <td>False</td>\n",
              "      <td>False</td>\n",
              "      <td>True</td>\n",
              "      <td>False</td>\n",
              "      <td>False</td>\n",
              "      <td>True</td>\n",
              "      <td>False</td>\n",
              "      <td>False</td>\n",
              "      <td>False</td>\n",
              "    </tr>\n",
              "    <tr>\n",
              "      <th>2</th>\n",
              "      <td>7000</td>\n",
              "      <td>37</td>\n",
              "      <td>1.0</td>\n",
              "      <td>0.0</td>\n",
              "      <td>1.0</td>\n",
              "      <td>0.0</td>\n",
              "      <td>0.0</td>\n",
              "      <td>0.0</td>\n",
              "      <td>0.0</td>\n",
              "      <td>1.0</td>\n",
              "      <td>...</td>\n",
              "      <td>False</td>\n",
              "      <td>False</td>\n",
              "      <td>False</td>\n",
              "      <td>False</td>\n",
              "      <td>False</td>\n",
              "      <td>True</td>\n",
              "      <td>False</td>\n",
              "      <td>True</td>\n",
              "      <td>False</td>\n",
              "      <td>False</td>\n",
              "    </tr>\n",
              "    <tr>\n",
              "      <th>4</th>\n",
              "      <td>5000</td>\n",
              "      <td>34</td>\n",
              "      <td>1.0</td>\n",
              "      <td>0.0</td>\n",
              "      <td>1.0</td>\n",
              "      <td>0.0</td>\n",
              "      <td>0.0</td>\n",
              "      <td>0.0</td>\n",
              "      <td>0.0</td>\n",
              "      <td>0.0</td>\n",
              "      <td>...</td>\n",
              "      <td>False</td>\n",
              "      <td>False</td>\n",
              "      <td>False</td>\n",
              "      <td>True</td>\n",
              "      <td>False</td>\n",
              "      <td>False</td>\n",
              "      <td>False</td>\n",
              "      <td>True</td>\n",
              "      <td>False</td>\n",
              "      <td>False</td>\n",
              "    </tr>\n",
              "    <tr>\n",
              "      <th>5</th>\n",
              "      <td>10000</td>\n",
              "      <td>30</td>\n",
              "      <td>1.0</td>\n",
              "      <td>0.0</td>\n",
              "      <td>1.0</td>\n",
              "      <td>0.0</td>\n",
              "      <td>0.0</td>\n",
              "      <td>0.0</td>\n",
              "      <td>0.0</td>\n",
              "      <td>0.0</td>\n",
              "      <td>...</td>\n",
              "      <td>False</td>\n",
              "      <td>False</td>\n",
              "      <td>False</td>\n",
              "      <td>True</td>\n",
              "      <td>False</td>\n",
              "      <td>False</td>\n",
              "      <td>False</td>\n",
              "      <td>False</td>\n",
              "      <td>False</td>\n",
              "      <td>True</td>\n",
              "    </tr>\n",
              "    <tr>\n",
              "      <th>...</th>\n",
              "      <td>...</td>\n",
              "      <td>...</td>\n",
              "      <td>...</td>\n",
              "      <td>...</td>\n",
              "      <td>...</td>\n",
              "      <td>...</td>\n",
              "      <td>...</td>\n",
              "      <td>...</td>\n",
              "      <td>...</td>\n",
              "      <td>...</td>\n",
              "      <td>...</td>\n",
              "      <td>...</td>\n",
              "      <td>...</td>\n",
              "      <td>...</td>\n",
              "      <td>...</td>\n",
              "      <td>...</td>\n",
              "      <td>...</td>\n",
              "      <td>...</td>\n",
              "      <td>...</td>\n",
              "      <td>...</td>\n",
              "      <td>...</td>\n",
              "    </tr>\n",
              "    <tr>\n",
              "      <th>5283</th>\n",
              "      <td>27500</td>\n",
              "      <td>30</td>\n",
              "      <td>1.0</td>\n",
              "      <td>0.0</td>\n",
              "      <td>1.0</td>\n",
              "      <td>0.0</td>\n",
              "      <td>0.0</td>\n",
              "      <td>0.0</td>\n",
              "      <td>0.0</td>\n",
              "      <td>0.0</td>\n",
              "      <td>...</td>\n",
              "      <td>False</td>\n",
              "      <td>False</td>\n",
              "      <td>False</td>\n",
              "      <td>True</td>\n",
              "      <td>False</td>\n",
              "      <td>False</td>\n",
              "      <td>False</td>\n",
              "      <td>True</td>\n",
              "      <td>False</td>\n",
              "      <td>False</td>\n",
              "    </tr>\n",
              "    <tr>\n",
              "      <th>5286</th>\n",
              "      <td>14000</td>\n",
              "      <td>37</td>\n",
              "      <td>1.0</td>\n",
              "      <td>0.0</td>\n",
              "      <td>1.0</td>\n",
              "      <td>0.0</td>\n",
              "      <td>0.0</td>\n",
              "      <td>0.0</td>\n",
              "      <td>0.0</td>\n",
              "      <td>0.0</td>\n",
              "      <td>...</td>\n",
              "      <td>False</td>\n",
              "      <td>False</td>\n",
              "      <td>False</td>\n",
              "      <td>True</td>\n",
              "      <td>False</td>\n",
              "      <td>False</td>\n",
              "      <td>False</td>\n",
              "      <td>True</td>\n",
              "      <td>False</td>\n",
              "      <td>False</td>\n",
              "    </tr>\n",
              "    <tr>\n",
              "      <th>5287</th>\n",
              "      <td>10000</td>\n",
              "      <td>28</td>\n",
              "      <td>1.0</td>\n",
              "      <td>0.0</td>\n",
              "      <td>1.0</td>\n",
              "      <td>0.0</td>\n",
              "      <td>0.0</td>\n",
              "      <td>0.0</td>\n",
              "      <td>0.0</td>\n",
              "      <td>0.0</td>\n",
              "      <td>...</td>\n",
              "      <td>False</td>\n",
              "      <td>False</td>\n",
              "      <td>False</td>\n",
              "      <td>False</td>\n",
              "      <td>False</td>\n",
              "      <td>True</td>\n",
              "      <td>False</td>\n",
              "      <td>False</td>\n",
              "      <td>True</td>\n",
              "      <td>False</td>\n",
              "    </tr>\n",
              "    <tr>\n",
              "      <th>5289</th>\n",
              "      <td>10000</td>\n",
              "      <td>32</td>\n",
              "      <td>1.0</td>\n",
              "      <td>0.0</td>\n",
              "      <td>1.0</td>\n",
              "      <td>0.0</td>\n",
              "      <td>0.0</td>\n",
              "      <td>0.0</td>\n",
              "      <td>0.0</td>\n",
              "      <td>0.0</td>\n",
              "      <td>...</td>\n",
              "      <td>False</td>\n",
              "      <td>False</td>\n",
              "      <td>False</td>\n",
              "      <td>True</td>\n",
              "      <td>False</td>\n",
              "      <td>False</td>\n",
              "      <td>False</td>\n",
              "      <td>False</td>\n",
              "      <td>True</td>\n",
              "      <td>False</td>\n",
              "    </tr>\n",
              "    <tr>\n",
              "      <th>5290</th>\n",
              "      <td>10000</td>\n",
              "      <td>25</td>\n",
              "      <td>1.0</td>\n",
              "      <td>0.0</td>\n",
              "      <td>1.0</td>\n",
              "      <td>0.0</td>\n",
              "      <td>0.0</td>\n",
              "      <td>0.0</td>\n",
              "      <td>0.0</td>\n",
              "      <td>0.0</td>\n",
              "      <td>...</td>\n",
              "      <td>False</td>\n",
              "      <td>False</td>\n",
              "      <td>False</td>\n",
              "      <td>False</td>\n",
              "      <td>False</td>\n",
              "      <td>True</td>\n",
              "      <td>True</td>\n",
              "      <td>False</td>\n",
              "      <td>False</td>\n",
              "      <td>False</td>\n",
              "    </tr>\n",
              "  </tbody>\n",
              "</table>\n",
              "<p>3156 rows × 176 columns</p>\n",
              "</div>\n",
              "    <div class=\"colab-df-buttons\">\n",
              "\n",
              "  <div class=\"colab-df-container\">\n",
              "    <button class=\"colab-df-convert\" onclick=\"convertToInteractive('df-508acf77-d238-4714-b1d1-b98916c185c8')\"\n",
              "            title=\"Convert this dataframe to an interactive table.\"\n",
              "            style=\"display:none;\">\n",
              "\n",
              "  <svg xmlns=\"http://www.w3.org/2000/svg\" height=\"24px\" viewBox=\"0 -960 960 960\">\n",
              "    <path d=\"M120-120v-720h720v720H120Zm60-500h600v-160H180v160Zm220 220h160v-160H400v160Zm0 220h160v-160H400v160ZM180-400h160v-160H180v160Zm440 0h160v-160H620v160ZM180-180h160v-160H180v160Zm440 0h160v-160H620v160Z\"/>\n",
              "  </svg>\n",
              "    </button>\n",
              "\n",
              "  <style>\n",
              "    .colab-df-container {\n",
              "      display:flex;\n",
              "      gap: 12px;\n",
              "    }\n",
              "\n",
              "    .colab-df-convert {\n",
              "      background-color: #E8F0FE;\n",
              "      border: none;\n",
              "      border-radius: 50%;\n",
              "      cursor: pointer;\n",
              "      display: none;\n",
              "      fill: #1967D2;\n",
              "      height: 32px;\n",
              "      padding: 0 0 0 0;\n",
              "      width: 32px;\n",
              "    }\n",
              "\n",
              "    .colab-df-convert:hover {\n",
              "      background-color: #E2EBFA;\n",
              "      box-shadow: 0px 1px 2px rgba(60, 64, 67, 0.3), 0px 1px 3px 1px rgba(60, 64, 67, 0.15);\n",
              "      fill: #174EA6;\n",
              "    }\n",
              "\n",
              "    .colab-df-buttons div {\n",
              "      margin-bottom: 4px;\n",
              "    }\n",
              "\n",
              "    [theme=dark] .colab-df-convert {\n",
              "      background-color: #3B4455;\n",
              "      fill: #D2E3FC;\n",
              "    }\n",
              "\n",
              "    [theme=dark] .colab-df-convert:hover {\n",
              "      background-color: #434B5C;\n",
              "      box-shadow: 0px 1px 3px 1px rgba(0, 0, 0, 0.15);\n",
              "      filter: drop-shadow(0px 1px 2px rgba(0, 0, 0, 0.3));\n",
              "      fill: #FFFFFF;\n",
              "    }\n",
              "  </style>\n",
              "\n",
              "    <script>\n",
              "      const buttonEl =\n",
              "        document.querySelector('#df-508acf77-d238-4714-b1d1-b98916c185c8 button.colab-df-convert');\n",
              "      buttonEl.style.display =\n",
              "        google.colab.kernel.accessAllowed ? 'block' : 'none';\n",
              "\n",
              "      async function convertToInteractive(key) {\n",
              "        const element = document.querySelector('#df-508acf77-d238-4714-b1d1-b98916c185c8');\n",
              "        const dataTable =\n",
              "          await google.colab.kernel.invokeFunction('convertToInteractive',\n",
              "                                                    [key], {});\n",
              "        if (!dataTable) return;\n",
              "\n",
              "        const docLinkHtml = 'Like what you see? Visit the ' +\n",
              "          '<a target=\"_blank\" href=https://colab.research.google.com/notebooks/data_table.ipynb>data table notebook</a>'\n",
              "          + ' to learn more about interactive tables.';\n",
              "        element.innerHTML = '';\n",
              "        dataTable['output_type'] = 'display_data';\n",
              "        await google.colab.output.renderOutput(dataTable, element);\n",
              "        const docLink = document.createElement('div');\n",
              "        docLink.innerHTML = docLinkHtml;\n",
              "        element.appendChild(docLink);\n",
              "      }\n",
              "    </script>\n",
              "  </div>\n",
              "\n",
              "\n",
              "<div id=\"df-6b497445-4488-41a8-81af-610aad73edb5\">\n",
              "  <button class=\"colab-df-quickchart\" onclick=\"quickchart('df-6b497445-4488-41a8-81af-610aad73edb5')\"\n",
              "            title=\"Suggest charts\"\n",
              "            style=\"display:none;\">\n",
              "\n",
              "<svg xmlns=\"http://www.w3.org/2000/svg\" height=\"24px\"viewBox=\"0 0 24 24\"\n",
              "     width=\"24px\">\n",
              "    <g>\n",
              "        <path d=\"M19 3H5c-1.1 0-2 .9-2 2v14c0 1.1.9 2 2 2h14c1.1 0 2-.9 2-2V5c0-1.1-.9-2-2-2zM9 17H7v-7h2v7zm4 0h-2V7h2v10zm4 0h-2v-4h2v4z\"/>\n",
              "    </g>\n",
              "</svg>\n",
              "  </button>\n",
              "\n",
              "<style>\n",
              "  .colab-df-quickchart {\n",
              "      --bg-color: #E8F0FE;\n",
              "      --fill-color: #1967D2;\n",
              "      --hover-bg-color: #E2EBFA;\n",
              "      --hover-fill-color: #174EA6;\n",
              "      --disabled-fill-color: #AAA;\n",
              "      --disabled-bg-color: #DDD;\n",
              "  }\n",
              "\n",
              "  [theme=dark] .colab-df-quickchart {\n",
              "      --bg-color: #3B4455;\n",
              "      --fill-color: #D2E3FC;\n",
              "      --hover-bg-color: #434B5C;\n",
              "      --hover-fill-color: #FFFFFF;\n",
              "      --disabled-bg-color: #3B4455;\n",
              "      --disabled-fill-color: #666;\n",
              "  }\n",
              "\n",
              "  .colab-df-quickchart {\n",
              "    background-color: var(--bg-color);\n",
              "    border: none;\n",
              "    border-radius: 50%;\n",
              "    cursor: pointer;\n",
              "    display: none;\n",
              "    fill: var(--fill-color);\n",
              "    height: 32px;\n",
              "    padding: 0;\n",
              "    width: 32px;\n",
              "  }\n",
              "\n",
              "  .colab-df-quickchart:hover {\n",
              "    background-color: var(--hover-bg-color);\n",
              "    box-shadow: 0 1px 2px rgba(60, 64, 67, 0.3), 0 1px 3px 1px rgba(60, 64, 67, 0.15);\n",
              "    fill: var(--button-hover-fill-color);\n",
              "  }\n",
              "\n",
              "  .colab-df-quickchart-complete:disabled,\n",
              "  .colab-df-quickchart-complete:disabled:hover {\n",
              "    background-color: var(--disabled-bg-color);\n",
              "    fill: var(--disabled-fill-color);\n",
              "    box-shadow: none;\n",
              "  }\n",
              "\n",
              "  .colab-df-spinner {\n",
              "    border: 2px solid var(--fill-color);\n",
              "    border-color: transparent;\n",
              "    border-bottom-color: var(--fill-color);\n",
              "    animation:\n",
              "      spin 1s steps(1) infinite;\n",
              "  }\n",
              "\n",
              "  @keyframes spin {\n",
              "    0% {\n",
              "      border-color: transparent;\n",
              "      border-bottom-color: var(--fill-color);\n",
              "      border-left-color: var(--fill-color);\n",
              "    }\n",
              "    20% {\n",
              "      border-color: transparent;\n",
              "      border-left-color: var(--fill-color);\n",
              "      border-top-color: var(--fill-color);\n",
              "    }\n",
              "    30% {\n",
              "      border-color: transparent;\n",
              "      border-left-color: var(--fill-color);\n",
              "      border-top-color: var(--fill-color);\n",
              "      border-right-color: var(--fill-color);\n",
              "    }\n",
              "    40% {\n",
              "      border-color: transparent;\n",
              "      border-right-color: var(--fill-color);\n",
              "      border-top-color: var(--fill-color);\n",
              "    }\n",
              "    60% {\n",
              "      border-color: transparent;\n",
              "      border-right-color: var(--fill-color);\n",
              "    }\n",
              "    80% {\n",
              "      border-color: transparent;\n",
              "      border-right-color: var(--fill-color);\n",
              "      border-bottom-color: var(--fill-color);\n",
              "    }\n",
              "    90% {\n",
              "      border-color: transparent;\n",
              "      border-bottom-color: var(--fill-color);\n",
              "    }\n",
              "  }\n",
              "</style>\n",
              "\n",
              "  <script>\n",
              "    async function quickchart(key) {\n",
              "      const quickchartButtonEl =\n",
              "        document.querySelector('#' + key + ' button');\n",
              "      quickchartButtonEl.disabled = true;  // To prevent multiple clicks.\n",
              "      quickchartButtonEl.classList.add('colab-df-spinner');\n",
              "      try {\n",
              "        const charts = await google.colab.kernel.invokeFunction(\n",
              "            'suggestCharts', [key], {});\n",
              "      } catch (error) {\n",
              "        console.error('Error during call to suggestCharts:', error);\n",
              "      }\n",
              "      quickchartButtonEl.classList.remove('colab-df-spinner');\n",
              "      quickchartButtonEl.classList.add('colab-df-quickchart-complete');\n",
              "    }\n",
              "    (() => {\n",
              "      let quickchartButtonEl =\n",
              "        document.querySelector('#df-6b497445-4488-41a8-81af-610aad73edb5 button');\n",
              "      quickchartButtonEl.style.display =\n",
              "        google.colab.kernel.accessAllowed ? 'block' : 'none';\n",
              "    })();\n",
              "  </script>\n",
              "</div>\n",
              "\n",
              "  <div id=\"id_083c0119-a310-4303-b3f4-4eeb33307064\">\n",
              "    <style>\n",
              "      .colab-df-generate {\n",
              "        background-color: #E8F0FE;\n",
              "        border: none;\n",
              "        border-radius: 50%;\n",
              "        cursor: pointer;\n",
              "        display: none;\n",
              "        fill: #1967D2;\n",
              "        height: 32px;\n",
              "        padding: 0 0 0 0;\n",
              "        width: 32px;\n",
              "      }\n",
              "\n",
              "      .colab-df-generate:hover {\n",
              "        background-color: #E2EBFA;\n",
              "        box-shadow: 0px 1px 2px rgba(60, 64, 67, 0.3), 0px 1px 3px 1px rgba(60, 64, 67, 0.15);\n",
              "        fill: #174EA6;\n",
              "      }\n",
              "\n",
              "      [theme=dark] .colab-df-generate {\n",
              "        background-color: #3B4455;\n",
              "        fill: #D2E3FC;\n",
              "      }\n",
              "\n",
              "      [theme=dark] .colab-df-generate:hover {\n",
              "        background-color: #434B5C;\n",
              "        box-shadow: 0px 1px 3px 1px rgba(0, 0, 0, 0.15);\n",
              "        filter: drop-shadow(0px 1px 2px rgba(0, 0, 0, 0.3));\n",
              "        fill: #FFFFFF;\n",
              "      }\n",
              "    </style>\n",
              "    <button class=\"colab-df-generate\" onclick=\"generateWithVariable('df_final')\"\n",
              "            title=\"Generate code using this dataframe.\"\n",
              "            style=\"display:none;\">\n",
              "\n",
              "  <svg xmlns=\"http://www.w3.org/2000/svg\" height=\"24px\"viewBox=\"0 0 24 24\"\n",
              "       width=\"24px\">\n",
              "    <path d=\"M7,19H8.4L18.45,9,17,7.55,7,17.6ZM5,21V16.75L18.45,3.32a2,2,0,0,1,2.83,0l1.4,1.43a1.91,1.91,0,0,1,.58,1.4,1.91,1.91,0,0,1-.58,1.4L9.25,21ZM18.45,9,17,7.55Zm-12,3A5.31,5.31,0,0,0,4.9,8.1,5.31,5.31,0,0,0,1,6.5,5.31,5.31,0,0,0,4.9,4.9,5.31,5.31,0,0,0,6.5,1,5.31,5.31,0,0,0,8.1,4.9,5.31,5.31,0,0,0,12,6.5,5.46,5.46,0,0,0,6.5,12Z\"/>\n",
              "  </svg>\n",
              "    </button>\n",
              "    <script>\n",
              "      (() => {\n",
              "      const buttonEl =\n",
              "        document.querySelector('#id_083c0119-a310-4303-b3f4-4eeb33307064 button.colab-df-generate');\n",
              "      buttonEl.style.display =\n",
              "        google.colab.kernel.accessAllowed ? 'block' : 'none';\n",
              "\n",
              "      buttonEl.onclick = () => {\n",
              "        google.colab.notebook.generateWithVariable('df_final');\n",
              "      }\n",
              "      })();\n",
              "    </script>\n",
              "  </div>\n",
              "\n",
              "    </div>\n",
              "  </div>\n"
            ],
            "application/vnd.google.colaboratory.intrinsic+json": {
              "type": "dataframe",
              "variable_name": "df_final"
            }
          },
          "metadata": {},
          "execution_count": 131
        }
      ]
    },
    {
      "cell_type": "code",
      "source": [
        "from sklearn.preprocessing import MinMaxScaler\n",
        "\n",
        "scaler = MinMaxScaler()\n",
        "df_final['Idade'] = scaler.fit_transform(df_final[['Idade']])\n",
        "\n",
        "# tive que dropar\n",
        "df_final.dropna(inplace=True)\n",
        "\n",
        "X = df_final.drop(columns=['Faixa salarial'])\n",
        "y = df_final['Faixa salarial']\n"
      ],
      "metadata": {
        "id": "2YR9qS4wTBbr"
      },
      "execution_count": 139,
      "outputs": []
    },
    {
      "cell_type": "code",
      "source": [
        "from sklearn.model_selection import cross_validate, KFold\n",
        "from sklearn.neighbors import KNeighborsRegressor\n",
        "\n",
        "def knn_reg(r, X, y, metricas=['neg_mean_squared_error', 'neg_mean_absolute_error', 'neg_root_mean_squared_error']):\n",
        "    resultados = {}\n",
        "    for i in r:\n",
        "        modelo = KNeighborsRegressor(n_neighbors=i)\n",
        "        validacao = KFold(n_splits=10, shuffle=True)\n",
        "        scores = cross_validate(modelo, X, y, cv=validacao, scoring=metricas)\n",
        "\n",
        "        resultados[f\"{i}\"] = round(scores['test_neg_mean_squared_error'].mean(), 4)\n",
        "\n",
        "    resultados_ordenados = {key: value for key, value in sorted(resultados.items(), key=lambda item: item[1], reverse=True)}\n",
        "\n",
        "    return resultados_ordenados\n",
        "\n",
        "# teste1 = knn_reg(range(1, int(len(X)/2), 100), X, y)\n",
        "#101, 201, 301, 1\n",
        "final = knn_reg(range(1, 100), X, y)\n",
        "# KNeighborsRegressor(n_neighbors=7)"
      ],
      "metadata": {
        "colab": {
          "base_uri": "https://localhost:8080/"
        },
        "id": "oq_zbsz4SYAX",
        "outputId": "a5c3d120-e49b-4960-f5bc-f9910afe1f1e"
      },
      "execution_count": 145,
      "outputs": [
        {
          "output_type": "execute_result",
          "data": {
            "text/plain": [
              "{'7': np.float64(-17288008.9204),\n",
              " '8': np.float64(-17378708.7287),\n",
              " '16': np.float64(-17469427.1973),\n",
              " '9': np.float64(-17493008.5653),\n",
              " '15': np.float64(-17522723.5732),\n",
              " '14': np.float64(-17529832.891),\n",
              " '13': np.float64(-17548964.5177),\n",
              " '12': np.float64(-17581468.0495),\n",
              " '19': np.float64(-17601228.2294),\n",
              " '18': np.float64(-17603667.2972),\n",
              " '6': np.float64(-17604371.8026),\n",
              " '10': np.float64(-17615124.5629),\n",
              " '17': np.float64(-17623612.1059),\n",
              " '21': np.float64(-17638834.7419),\n",
              " '20': np.float64(-17689022.0116),\n",
              " '5': np.float64(-17729502.0259),\n",
              " '11': np.float64(-17749920.1344),\n",
              " '22': np.float64(-17757819.0675),\n",
              " '23': np.float64(-17814849.448),\n",
              " '24': np.float64(-17890515.894),\n",
              " '25': np.float64(-17896043.6739),\n",
              " '27': np.float64(-17965288.7395),\n",
              " '26': np.float64(-17975981.9269),\n",
              " '28': np.float64(-18013318.3544),\n",
              " '29': np.float64(-18040317.9749),\n",
              " '30': np.float64(-18090717.8994),\n",
              " '32': np.float64(-18102083.6402),\n",
              " '31': np.float64(-18128954.5029),\n",
              " '33': np.float64(-18158188.1515),\n",
              " '35': np.float64(-18172551.414),\n",
              " '34': np.float64(-18185311.0351),\n",
              " '4': np.float64(-18201667.0123),\n",
              " '36': np.float64(-18250301.9206),\n",
              " '39': np.float64(-18271103.2382),\n",
              " '37': np.float64(-18272021.1771),\n",
              " '38': np.float64(-18279553.1131),\n",
              " '40': np.float64(-18313837.9042),\n",
              " '41': np.float64(-18347243.0805),\n",
              " '42': np.float64(-18368716.7306),\n",
              " '43': np.float64(-18452400.096),\n",
              " '44': np.float64(-18485135.2467),\n",
              " '45': np.float64(-18500658.1306),\n",
              " '46': np.float64(-18540622.815),\n",
              " '47': np.float64(-18565799.51),\n",
              " '48': np.float64(-18589523.6325),\n",
              " '49': np.float64(-18654176.2047),\n",
              " '50': np.float64(-18710035.5241),\n",
              " '51': np.float64(-18732532.3531),\n",
              " '52': np.float64(-18749741.147),\n",
              " '53': np.float64(-18787773.9302),\n",
              " '54': np.float64(-18820400.9566),\n",
              " '55': np.float64(-18835858.1705),\n",
              " '56': np.float64(-18850791.1483),\n",
              " '57': np.float64(-18868791.2849),\n",
              " '58': np.float64(-18888020.8417),\n",
              " '59': np.float64(-18893059.9301),\n",
              " '60': np.float64(-18936163.8389),\n",
              " '61': np.float64(-18959013.1008),\n",
              " '62': np.float64(-18996814.7618),\n",
              " '3': np.float64(-19001569.5243),\n",
              " '63': np.float64(-19046245.9117),\n",
              " '64': np.float64(-19076852.5548),\n",
              " '66': np.float64(-19134880.0917),\n",
              " '65': np.float64(-19138983.1175),\n",
              " '67': np.float64(-19153010.409),\n",
              " '68': np.float64(-19177668.5518),\n",
              " '69': np.float64(-19203975.7423),\n",
              " '70': np.float64(-19244470.6637),\n",
              " '71': np.float64(-19273656.941),\n",
              " '72': np.float64(-19275451.3001),\n",
              " '73': np.float64(-19337078.2455),\n",
              " '74': np.float64(-19353228.5074),\n",
              " '75': np.float64(-19406770.9606),\n",
              " '77': np.float64(-19415960.3921),\n",
              " '76': np.float64(-19418536.1331),\n",
              " '79': np.float64(-19422337.7486),\n",
              " '78': np.float64(-19435926.8897),\n",
              " '80': np.float64(-19450628.7288),\n",
              " '81': np.float64(-19482854.6119),\n",
              " '82': np.float64(-19510494.2808),\n",
              " '84': np.float64(-19528973.6357),\n",
              " '83': np.float64(-19535168.7951),\n",
              " '85': np.float64(-19556934.0813),\n",
              " '86': np.float64(-19588609.0811),\n",
              " '87': np.float64(-19604766.0844),\n",
              " '89': np.float64(-19635604.4314),\n",
              " '88': np.float64(-19637799.0026),\n",
              " '90': np.float64(-19660589.7085),\n",
              " '91': np.float64(-19677057.6059),\n",
              " '92': np.float64(-19703534.3377),\n",
              " '93': np.float64(-19727761.8741),\n",
              " '94': np.float64(-19750796.1821),\n",
              " '95': np.float64(-19786740.4994),\n",
              " '96': np.float64(-19805357.519),\n",
              " '97': np.float64(-19822068.2299),\n",
              " '98': np.float64(-19848425.9456),\n",
              " '99': np.float64(-19855512.2908),\n",
              " '2': np.float64(-20538943.4365),\n",
              " '1': np.float64(-26079961.9844)}"
            ]
          },
          "metadata": {},
          "execution_count": 145
        }
      ]
    },
    {
      "cell_type": "code",
      "source": [
        "from itertools import product\n",
        "\n",
        "dic = {\n",
        "    'a': [1, 2, 3, 4, 5],\n",
        "    'b': [10, 20, 30],\n",
        "    'c': [666, 777, 171]\n",
        "}\n",
        "\n",
        "for a, b, c in product(*dic.values()):\n",
        "    print(a, b, c)"
      ],
      "metadata": {
        "colab": {
          "base_uri": "https://localhost:8080/"
        },
        "id": "tXgBefPu-z6z",
        "outputId": "b3f59385-b257-424e-aae2-9c3c31d0ed6a"
      },
      "execution_count": 152,
      "outputs": [
        {
          "output_type": "stream",
          "name": "stdout",
          "text": [
            "1 10 666\n",
            "1 10 777\n",
            "1 10 171\n",
            "1 20 666\n",
            "1 20 777\n",
            "1 20 171\n",
            "1 30 666\n",
            "1 30 777\n",
            "1 30 171\n",
            "2 10 666\n",
            "2 10 777\n",
            "2 10 171\n",
            "2 20 666\n",
            "2 20 777\n",
            "2 20 171\n",
            "2 30 666\n",
            "2 30 777\n",
            "2 30 171\n",
            "3 10 666\n",
            "3 10 777\n",
            "3 10 171\n",
            "3 20 666\n",
            "3 20 777\n",
            "3 20 171\n",
            "3 30 666\n",
            "3 30 777\n",
            "3 30 171\n",
            "4 10 666\n",
            "4 10 777\n",
            "4 10 171\n",
            "4 20 666\n",
            "4 20 777\n",
            "4 20 171\n",
            "4 30 666\n",
            "4 30 777\n",
            "4 30 171\n",
            "5 10 666\n",
            "5 10 777\n",
            "5 10 171\n",
            "5 20 666\n",
            "5 20 777\n",
            "5 20 171\n",
            "5 30 666\n",
            "5 30 777\n",
            "5 30 171\n"
          ]
        }
      ]
    },
    {
      "cell_type": "code",
      "source": [
        "from sklearn.tree import DecisionTreeRegressor\n",
        "from itertools import product\n",
        "\n",
        "\n",
        "param_grid = {\n",
        "    'max_depth': list(range(1, 7)),\n",
        "    'min_samples_split': list(range(2, 302, 30)),\n",
        "    'min_samples_leaf': list(range(1, 32, 10))\n",
        "}\n",
        "\n",
        "def arvore(param_grid, X, y, metricas=['neg_mean_squared_error', 'neg_mean_absolute_error', 'neg_root_mean_squared_error']):\n",
        "    dic = {}\n",
        "    for max_depth, min_samples_split, min_samples_leaf in product(param_grid['max_depth'], param_grid['min_samples_split'], param_grid['min_samples_leaf']):\n",
        "\n",
        "        modelo = DecisionTreeRegressor(max_depth=max_depth, min_samples_split=min_samples_split, min_samples_leaf=min_samples_leaf)\n",
        "\n",
        "        validacao = KFold(n_splits=10, shuffle=True)\n",
        "\n",
        "        arvore_resultados = cross_validate(modelo, X, y, cv=validacao, scoring=metricas)\n",
        "\n",
        "        dic[(max_depth, min_samples_split, min_samples_leaf)] = round(arvore_resultados['test_neg_mean_squared_error'].mean(), 4)\n",
        "\n",
        "    arvore_ordenada = {key: value for key, value in sorted(dic.items(), key=lambda item: item[1], reverse=True)}\n",
        "    return arvore_ordenada\n",
        "\n",
        "\n",
        "arvore_ordenada1 = arvore(param_grid, X, y)\n",
        "\n",
        "list(arvore_ordenada1.keys())[0]\n",
        "\n",
        "# melhor (6, 152, 11): np.float64(-14441388.5768)\n",
        "arvore_ordenada2 = arvore({\n",
        "    'max_depth': [5, 6],\n",
        "    'min_samples_split': list(range(60, 200, 15)),\n",
        "    'min_samples_leaf': list(range(7, 19, 3))\n",
        "}, X, y)\n",
        "# (6, 195, 10): np.float64(-14305947.42)\n",
        "\n",
        "primeiro = list(arvore_ordenada2.keys())[0]\n",
        "\n",
        "bm = DecisionTreeRegressor(max_depth = 6, min_samples_split = 195, min_samples_leaf = 10)\n",
        "\n"
      ],
      "metadata": {
        "colab": {
          "base_uri": "https://localhost:8080/"
        },
        "id": "-RE73-NKby3g",
        "outputId": "c4343718-c8f7-475c-9945-ec99c0ab8b52"
      },
      "execution_count": 151,
      "outputs": [
        {
          "output_type": "execute_result",
          "data": {
            "text/plain": [
              "(6, 195, 10)"
            ]
          },
          "metadata": {},
          "execution_count": 151
        }
      ]
    },
    {
      "cell_type": "code",
      "source": [
        "# integrar \"dicionarios\"\n",
        "dic_supremo = {\"Linguagens\": dic_linguagens,\n",
        "               \"Clouds\": dic_clouds,\n",
        "               \"BI\": dic_bi,\n",
        "               \"Experiência\": {v: k for k, v in experiencia_map.items()}}"
      ],
      "metadata": {
        "id": "eNwnatosiaIj"
      },
      "execution_count": null,
      "outputs": []
    },
    {
      "cell_type": "markdown",
      "source": [
        "# Análise?"
      ],
      "metadata": {
        "id": "y0AsMOtHEVoG"
      }
    },
    {
      "cell_type": "markdown",
      "source": [
        "### Verificação inicial\n"
      ],
      "metadata": {
        "id": "u4sbLvrJEfGy"
      }
    },
    {
      "cell_type": "markdown",
      "source": [
        "Distribuição nas idades e discrepância na representação dos gêneros"
      ],
      "metadata": {
        "id": "gAICcf5OEkh_"
      }
    },
    {
      "cell_type": "code",
      "source": [
        "import plotly as pt\n",
        "import plotly.express as px\n",
        "\n",
        "plt.figure(figsize=(18, 6))\n",
        "\n",
        "plt.hist(df['Idade'], edgecolor='black', bins = 25)\n",
        "\n",
        "plt.title(\"Histograma da Idade\")\n",
        "plt.xlabel(\"Idade\")\n",
        "plt.ylabel(\"Frequência\")\n",
        "\n",
        "plt.show()\n",
        "\n",
        "\n",
        "fig = px.pie(df, values=\"Contagem\", names=\"Gênero\")\n",
        "fig.show()"
      ],
      "metadata": {
        "id": "ccRPQqnsEgQe",
        "colab": {
          "base_uri": "https://localhost:8080/",
          "height": 564
        },
        "outputId": "d7e57e1e-0ed5-4190-9dcc-262c29479750"
      },
      "execution_count": null,
      "outputs": [
        {
          "output_type": "error",
          "ename": "KeyError",
          "evalue": "'Idade'",
          "traceback": [
            "\u001b[0;31m---------------------------------------------------------------------------\u001b[0m",
            "\u001b[0;31mKeyError\u001b[0m                                  Traceback (most recent call last)",
            "\u001b[0;32m/usr/local/lib/python3.11/dist-packages/pandas/core/indexes/base.py\u001b[0m in \u001b[0;36mget_loc\u001b[0;34m(self, key)\u001b[0m\n\u001b[1;32m   3804\u001b[0m         \u001b[0;32mtry\u001b[0m\u001b[0;34m:\u001b[0m\u001b[0;34m\u001b[0m\u001b[0;34m\u001b[0m\u001b[0m\n\u001b[0;32m-> 3805\u001b[0;31m             \u001b[0;32mreturn\u001b[0m \u001b[0mself\u001b[0m\u001b[0;34m.\u001b[0m\u001b[0m_engine\u001b[0m\u001b[0;34m.\u001b[0m\u001b[0mget_loc\u001b[0m\u001b[0;34m(\u001b[0m\u001b[0mcasted_key\u001b[0m\u001b[0;34m)\u001b[0m\u001b[0;34m\u001b[0m\u001b[0;34m\u001b[0m\u001b[0m\n\u001b[0m\u001b[1;32m   3806\u001b[0m         \u001b[0;32mexcept\u001b[0m \u001b[0mKeyError\u001b[0m \u001b[0;32mas\u001b[0m \u001b[0merr\u001b[0m\u001b[0;34m:\u001b[0m\u001b[0;34m\u001b[0m\u001b[0;34m\u001b[0m\u001b[0m\n",
            "\u001b[0;32mindex.pyx\u001b[0m in \u001b[0;36mpandas._libs.index.IndexEngine.get_loc\u001b[0;34m()\u001b[0m\n",
            "\u001b[0;32mindex.pyx\u001b[0m in \u001b[0;36mpandas._libs.index.IndexEngine.get_loc\u001b[0;34m()\u001b[0m\n",
            "\u001b[0;32mpandas/_libs/hashtable_class_helper.pxi\u001b[0m in \u001b[0;36mpandas._libs.hashtable.PyObjectHashTable.get_item\u001b[0;34m()\u001b[0m\n",
            "\u001b[0;32mpandas/_libs/hashtable_class_helper.pxi\u001b[0m in \u001b[0;36mpandas._libs.hashtable.PyObjectHashTable.get_item\u001b[0;34m()\u001b[0m\n",
            "\u001b[0;31mKeyError\u001b[0m: 'Idade'",
            "\nThe above exception was the direct cause of the following exception:\n",
            "\u001b[0;31mKeyError\u001b[0m                                  Traceback (most recent call last)",
            "\u001b[0;32m<ipython-input-167-007bba445501>\u001b[0m in \u001b[0;36m<cell line: 0>\u001b[0;34m()\u001b[0m\n\u001b[1;32m      4\u001b[0m \u001b[0mplt\u001b[0m\u001b[0;34m.\u001b[0m\u001b[0mfigure\u001b[0m\u001b[0;34m(\u001b[0m\u001b[0mfigsize\u001b[0m\u001b[0;34m=\u001b[0m\u001b[0;34m(\u001b[0m\u001b[0;36m18\u001b[0m\u001b[0;34m,\u001b[0m \u001b[0;36m6\u001b[0m\u001b[0;34m)\u001b[0m\u001b[0;34m)\u001b[0m\u001b[0;34m\u001b[0m\u001b[0;34m\u001b[0m\u001b[0m\n\u001b[1;32m      5\u001b[0m \u001b[0;34m\u001b[0m\u001b[0m\n\u001b[0;32m----> 6\u001b[0;31m \u001b[0mplt\u001b[0m\u001b[0;34m.\u001b[0m\u001b[0mhist\u001b[0m\u001b[0;34m(\u001b[0m\u001b[0mdf\u001b[0m\u001b[0;34m[\u001b[0m\u001b[0;34m'Idade'\u001b[0m\u001b[0;34m]\u001b[0m\u001b[0;34m,\u001b[0m \u001b[0medgecolor\u001b[0m\u001b[0;34m=\u001b[0m\u001b[0;34m'black'\u001b[0m\u001b[0;34m,\u001b[0m \u001b[0mbins\u001b[0m \u001b[0;34m=\u001b[0m \u001b[0;36m25\u001b[0m\u001b[0;34m)\u001b[0m\u001b[0;34m\u001b[0m\u001b[0;34m\u001b[0m\u001b[0m\n\u001b[0m\u001b[1;32m      7\u001b[0m \u001b[0;34m\u001b[0m\u001b[0m\n\u001b[1;32m      8\u001b[0m \u001b[0mplt\u001b[0m\u001b[0;34m.\u001b[0m\u001b[0mtitle\u001b[0m\u001b[0;34m(\u001b[0m\u001b[0;34m\"Histograma da Idade\"\u001b[0m\u001b[0;34m)\u001b[0m\u001b[0;34m\u001b[0m\u001b[0;34m\u001b[0m\u001b[0m\n",
            "\u001b[0;32m/usr/local/lib/python3.11/dist-packages/pandas/core/frame.py\u001b[0m in \u001b[0;36m__getitem__\u001b[0;34m(self, key)\u001b[0m\n\u001b[1;32m   4100\u001b[0m             \u001b[0;32mif\u001b[0m \u001b[0mself\u001b[0m\u001b[0;34m.\u001b[0m\u001b[0mcolumns\u001b[0m\u001b[0;34m.\u001b[0m\u001b[0mnlevels\u001b[0m \u001b[0;34m>\u001b[0m \u001b[0;36m1\u001b[0m\u001b[0;34m:\u001b[0m\u001b[0;34m\u001b[0m\u001b[0;34m\u001b[0m\u001b[0m\n\u001b[1;32m   4101\u001b[0m                 \u001b[0;32mreturn\u001b[0m \u001b[0mself\u001b[0m\u001b[0;34m.\u001b[0m\u001b[0m_getitem_multilevel\u001b[0m\u001b[0;34m(\u001b[0m\u001b[0mkey\u001b[0m\u001b[0;34m)\u001b[0m\u001b[0;34m\u001b[0m\u001b[0;34m\u001b[0m\u001b[0m\n\u001b[0;32m-> 4102\u001b[0;31m             \u001b[0mindexer\u001b[0m \u001b[0;34m=\u001b[0m \u001b[0mself\u001b[0m\u001b[0;34m.\u001b[0m\u001b[0mcolumns\u001b[0m\u001b[0;34m.\u001b[0m\u001b[0mget_loc\u001b[0m\u001b[0;34m(\u001b[0m\u001b[0mkey\u001b[0m\u001b[0;34m)\u001b[0m\u001b[0;34m\u001b[0m\u001b[0;34m\u001b[0m\u001b[0m\n\u001b[0m\u001b[1;32m   4103\u001b[0m             \u001b[0;32mif\u001b[0m \u001b[0mis_integer\u001b[0m\u001b[0;34m(\u001b[0m\u001b[0mindexer\u001b[0m\u001b[0;34m)\u001b[0m\u001b[0;34m:\u001b[0m\u001b[0;34m\u001b[0m\u001b[0;34m\u001b[0m\u001b[0m\n\u001b[1;32m   4104\u001b[0m                 \u001b[0mindexer\u001b[0m \u001b[0;34m=\u001b[0m \u001b[0;34m[\u001b[0m\u001b[0mindexer\u001b[0m\u001b[0;34m]\u001b[0m\u001b[0;34m\u001b[0m\u001b[0;34m\u001b[0m\u001b[0m\n",
            "\u001b[0;32m/usr/local/lib/python3.11/dist-packages/pandas/core/indexes/base.py\u001b[0m in \u001b[0;36mget_loc\u001b[0;34m(self, key)\u001b[0m\n\u001b[1;32m   3810\u001b[0m             ):\n\u001b[1;32m   3811\u001b[0m                 \u001b[0;32mraise\u001b[0m \u001b[0mInvalidIndexError\u001b[0m\u001b[0;34m(\u001b[0m\u001b[0mkey\u001b[0m\u001b[0;34m)\u001b[0m\u001b[0;34m\u001b[0m\u001b[0;34m\u001b[0m\u001b[0m\n\u001b[0;32m-> 3812\u001b[0;31m             \u001b[0;32mraise\u001b[0m \u001b[0mKeyError\u001b[0m\u001b[0;34m(\u001b[0m\u001b[0mkey\u001b[0m\u001b[0;34m)\u001b[0m \u001b[0;32mfrom\u001b[0m \u001b[0merr\u001b[0m\u001b[0;34m\u001b[0m\u001b[0;34m\u001b[0m\u001b[0m\n\u001b[0m\u001b[1;32m   3813\u001b[0m         \u001b[0;32mexcept\u001b[0m \u001b[0mTypeError\u001b[0m\u001b[0;34m:\u001b[0m\u001b[0;34m\u001b[0m\u001b[0;34m\u001b[0m\u001b[0m\n\u001b[1;32m   3814\u001b[0m             \u001b[0;31m# If we have a listlike key, _check_indexing_error will raise\u001b[0m\u001b[0;34m\u001b[0m\u001b[0;34m\u001b[0m\u001b[0m\n",
            "\u001b[0;31mKeyError\u001b[0m: 'Idade'"
          ]
        },
        {
          "output_type": "display_data",
          "data": {
            "text/plain": [
              "<Figure size 1800x600 with 0 Axes>"
            ]
          },
          "metadata": {}
        }
      ]
    },
    {
      "cell_type": "code",
      "source": [
        "import plotly.graph_objects as go\n",
        "\n",
        "def grafico_barras_ordenado(df, variavel_distribuicao, titulo, xlabel, rotation=0, ha='center'):\n",
        "    novo = df.groupby(variavel_distribuicao).size().reset_index(name='Contagem')\n",
        "    novo['Porcentagem'] = (novo['Contagem'] / novo['Contagem'].sum()) * 100\n",
        "\n",
        "    # Sort by descending order of Contagem\n",
        "    novo = novo.sort_values(by='Contagem', ascending=False)\n",
        "\n",
        "    fig = go.Figure()\n",
        "\n",
        "    fig.add_trace(go.Bar(\n",
        "        x=novo[variavel_distribuicao],  # Categorical x-axis\n",
        "        y=novo['Contagem'],             # Bar heights\n",
        "        text=[f'{p:.1f}%' for p in novo['Porcentagem']],  # Percentages as text\n",
        "        textposition='outside',         # Position text above bars\n",
        "        marker_color='white',           # Bar color\n",
        "        textfont=dict(color='white')    # Text color\n",
        "    ))\n",
        "\n",
        "    # Layout settings\n",
        "    fig.update_layout(\n",
        "        title=titulo,\n",
        "        xaxis_title=xlabel,\n",
        "        yaxis_title=\"Contagem\",\n",
        "        xaxis=dict(tickangle=rotation),\n",
        "        template=\"plotly_dark\"  # Optional: Adjust theme\n",
        "    )\n",
        "\n",
        "    fig.show()\n",
        "\n",
        "\n",
        "grafico_barras_ordenado(df, 'Gênero', 'Título', 'xlabel')"
      ],
      "metadata": {
        "id": "pzdgQpbfy3UE"
      },
      "execution_count": null,
      "outputs": []
    },
    {
      "cell_type": "markdown",
      "source": [
        "### Regional"
      ],
      "metadata": {
        "id": "cTRnWqY5Est-"
      }
    },
    {
      "cell_type": "markdown",
      "source": [
        "Nesse caso 0 significaria true e 1 false??\n"
      ],
      "metadata": {
        "id": "FbrCIclf0uR_"
      }
    },
    {
      "cell_type": "code",
      "source": [
        "print('Contagem de pessoas que responderam sua região de origem:', df[\"('P1_k ', 'Regiao de origem')\"].count())\n",
        "print('Contagem das respostas \"mudou de estado\": \\n ', df.groupby(\"('P1_j ', 'Mudou de Estado?')\")[\"('P1_j ', 'Mudou de Estado?')\"].count())"
      ],
      "metadata": {
        "id": "qmufOPJZjlep"
      },
      "execution_count": null,
      "outputs": []
    },
    {
      "cell_type": "code",
      "source": [
        "df.groupby(\"('P1_g ', 'vive_no_brasil')\")[\"('P1_g ', 'vive_no_brasil')\"].count()"
      ],
      "metadata": {
        "id": "eb0lxBEPkekY"
      },
      "execution_count": null,
      "outputs": []
    },
    {
      "cell_type": "code",
      "source": [
        "def retornar_migracao(df):\n",
        "        norte = ['AC', 'AM', 'AP', 'PA', 'RO', 'RR', 'TO']\n",
        "        nordeste = ['AL', 'BA', 'CE', 'MA', 'PB', 'PE', 'PI', 'RN', 'SE']\n",
        "        centro = ['DF', 'GO', 'MS', 'MT']\n",
        "        sudeste = ['ES', 'MG', 'RJ', 'SP']\n",
        "        sul = ['PR', 'RS', 'SC']\n",
        "\n",
        "        categorias = [\"Norte\", \"Nordeste\", \"Centro-Oeste\", \"Sudeste\", \"Sul\"]\n",
        "\n",
        "        # Função para mapear estados para regiões\n",
        "        def estado_para_regiao(coluna_antiga, coluna_nova, df_migracao):\n",
        "            condicao = [\n",
        "                df_migracao[coluna_antiga].str.contains('|'.join(norte), na=False),\n",
        "                df_migracao[coluna_antiga].str.contains('|'.join(nordeste), na=False),\n",
        "                df_migracao[coluna_antiga].str.contains('|'.join(centro), na=False),\n",
        "                df_migracao[coluna_antiga].str.contains('|'.join(sudeste), na=False),\n",
        "                df_migracao[coluna_antiga].str.contains('|'.join(sul), na=False)\n",
        "            ]\n",
        "            df_migracao[coluna_nova] = np.select(condicao, categorias, default='Exterior')\n",
        "            return df_migracao\n",
        "\n",
        "        # Supondo que o dataframe 'df' já tenha sido carregado anteriormente\n",
        "        df_migracao = df[[\"('P1_k ', 'Regiao de origem')\", \"('P1_i ', 'Estado onde mora')\", \"salarios\"]]\n",
        "        salarios = df_migracao.copy()\n",
        "        df_migracao.dropna(inplace=True)\n",
        "        df_migracao = df_migracao[df_migracao[\"('P1_k ', 'Regiao de origem')\"] != df_migracao[\"('P1_i ', 'Estado onde mora')\"]]\n",
        "\n",
        "        # Renomear as colunas para algo mais acessível\n",
        "        antigas = [\"('P1_k ', 'Regiao de origem')\", \"('P1_i ', 'Estado onde mora')\"]\n",
        "        novas = [\"Região de Origem\", \"Região Atual\"]\n",
        "\n",
        "        for antiga, nova in zip(antigas, novas):\n",
        "            df_migracao = estado_para_regiao(antiga, nova, df_migracao)\n",
        "\n",
        "        return df_migracao, salarios\n",
        "df_migracao, salarios = retornar_migracao(df)\n",
        "\n",
        "mean_salarios = salarios.groupby(\"('P1_i ', 'Estado onde mora')\")['salarios'].mean().reset_index()\n",
        "# Display the result\n",
        "print(mean_salarios)"
      ],
      "metadata": {
        "id": "TMwjmpypWCg4"
      },
      "execution_count": null,
      "outputs": []
    },
    {
      "cell_type": "code",
      "source": [
        "df_migracao[\"Estado onde mora\"] = df_migracao[\"('P1_i ', 'Estado onde mora')\"].str.extract(r'\\((.*?)\\)')\n",
        "df_migracao[\"Estado de origem\"] = df_migracao[\"('P1_k ', 'Regiao de origem')\"].str.extract(r'\\((.*?)\\)')"
      ],
      "metadata": {
        "id": "8Fczi5mSIrrB"
      },
      "execution_count": null,
      "outputs": []
    },
    {
      "cell_type": "code",
      "source": [
        "import pandas as pd\n",
        "import plotly.express as px\n",
        "\n",
        "# Seu DataFrame com os dados de migração\n",
        "migracao = pd.DataFrame({\n",
        "    'Estado de origem': ['RJ', 'SP', 'RS', 'PB', 'DF', 'AM', 'SC', 'PA', 'PE', 'ES'],\n",
        "    'count': [6, 6, 2, 1, 1, 1, 1, 1, 1, 1]\n",
        "})\n",
        "\n",
        "# Lista de todos os estados do Brasil\n",
        "estados_brasil = ['AC', 'AL', 'AP', 'AM', 'BA', 'CE', 'DF', 'ES', 'GO', 'MA', 'MT', 'MS', 'MG',\n",
        "                  'PA', 'PB', 'PR', 'PE', 'PI', 'RJ', 'RN', 'RS', 'RO', 'RR', 'SC', 'SP', 'SE', 'TO']\n",
        "\n",
        "# Criar um DataFrame com todos os estados e contar como 0 inicialmente\n",
        "todos_estados_df = pd.DataFrame(estados_brasil, columns=[\"Estado de origem\"])\n",
        "todos_estados_df[\"count\"] = 0\n",
        "\n",
        "# Fazer a junção entre o DataFrame de todos os estados e o de migração, com left join\n",
        "contagem_completa = pd.merge(todos_estados_df, migracao, on=\"Estado de origem\", how=\"left\")\n",
        "\n",
        "# Após o merge, pode ser criada uma coluna com um nome diferente como 'count_x', então renomeamos para 'count'\n",
        "contagem_completa['count'] = contagem_completa['count_y'].fillna(0)\n",
        "\n",
        "# Criar o gráfico de choropleth\n",
        "fig1 = px.choropleth(\n",
        "    contagem_completa,\n",
        "    geojson=\"https://raw.githubusercontent.com/codeforamerica/click_that_hood/master/public/data/brazil-states.geojson\",\n",
        "    locations=\"Estado de origem\",  # Coluna com os estados\n",
        "    featureidkey=\"properties.sigla\",  # Chave para a correspondência com o geojson\n",
        "    color='count',\n",
        "    color_continuous_scale='Blues',\n",
        "    scope='south america',  # Para focar no Brasil\n",
        "    title='Quantidade de profissionais que migraram para a Bahia'\n",
        ")\n",
        "\n",
        "# Ajustar o layout do gráfico\n",
        "fig1.update_layout(\n",
        "    coloraxis_colorbar=dict(title=\"Count\"),\n",
        "    geo=dict(coastlinecolor=\"Black\", projection_type=\"mercator\"),\n",
        ")\n",
        "\n",
        "# Exibir o gráfico\n",
        "fig1.show()\n"
      ],
      "metadata": {
        "id": "cZTD97bpYoap"
      },
      "execution_count": null,
      "outputs": []
    },
    {
      "cell_type": "code",
      "source": [
        "para_estado = df_migracao[df_migracao[\"Estado onde mora\"] == \"BA\"]\n",
        "do_estado = df_migracao[df_migracao[\"Estado de origem\"] == \"BA\"]\n",
        "\n",
        "contagem_para_estado = para_estado[\"Estado de origem\"].value_counts().reset_index()\n",
        "contagem_do_estado = do_estado[\"Estado onde mora\"].value_counts().reset_index()\n",
        "\n",
        "todos_estados_df = pd.DataFrame({'Estado de origem': estados_brasil})\n",
        "todos_estados_df[\"Estado onde mora\"] = todos_estados_df[\"Estado de origem\"]\n",
        "\n",
        "#\n",
        "contagem_completa_para_estado = pd.merge(todos_estados_df, contagem_para_estado, on=\"Estado de origem\", how=\"left\")\n",
        "contagem_completa_do_estado = pd.merge(todos_estados_df, contagem_do_estado, on=\"Estado onde mora\", how=\"left\")\n",
        "\n",
        "# Substituir na por 1 para plotagem\n",
        "contagem_completa_para_estado['count'] = contagem_completa_para_estado['count'].fillna(0)\n",
        "contagem_completa_do_estado['count'] = contagem_completa_do_estado['count'].fillna(0)"
      ],
      "metadata": {
        "id": "PJB6xPxoxbQK"
      },
      "execution_count": null,
      "outputs": []
    },
    {
      "cell_type": "code",
      "source": [
        "import pandas as pd\n",
        "import plotly.express as px\n",
        "\n",
        "# Seu DataFrame com os dados de migração\n",
        "migracao = pd.DataFrame({\n",
        "    'Estado de origem': ['RJ', 'SP', 'RS', 'PB', 'DF', 'AM', 'SC', 'PA', 'PE', 'ES'],\n",
        "    'count': [6, 6, 2, 1, 1, 1, 1, 1, 1, 1]\n",
        "})\n",
        "\n",
        "# Lista de todos os estados do Brasil\n",
        "estados_brasil = ['AC', 'AL', 'AP', 'AM', 'BA', 'CE', 'DF', 'ES', 'GO', 'MA', 'MT', 'MS', 'MG',\n",
        "                  'PA', 'PB', 'PR', 'PE', 'PI', 'RJ', 'RN', 'RS', 'RO', 'RR', 'SC', 'SP', 'SE', 'TO']\n",
        "\n",
        "todos_estados_df = pd.DataFrame({'Estado de origem': estados_brasil})\n",
        "todos_estados_df[\"Estado onde mora\"] = todos_estados_df[\"Estado de origem\"]\n",
        "\n",
        "# Fazer a junção entre o DataFrame de todos os estados e o de migração, com left join\n",
        "contagem_completa = pd.merge(todos_estados_df, contagem_para_bahia, on=\"Estado de origem\", how=\"left\")\n",
        "\n",
        "# Substituir valores NaN por 0\n",
        "contagem_completa['count'] = contagem_completa['count'].fillna(0)\n",
        "\n",
        "# Criar o gráfico de choropleth\n",
        "fig1 = px.choropleth(\n",
        "    contagem_completa_para_estado,\n",
        "    geojson=\"https://raw.githubusercontent.com/codeforamerica/click_that_hood/master/public/data/brazil-states.geojson\",\n",
        "    locations=\"Estado de origem\",\n",
        "    featureidkey=\"properties.sigla\",\n",
        "    color='count',\n",
        "    scope='asia', # Necessario para nao \"puxar\" o mapa da america do sul inteiro\n",
        "    color_continuous_scale='Blues',\n",
        "    title='Quantidade de profissionais que migraram para a Bahia'\n",
        ")\n",
        "\n",
        "fig1.update_layout(\n",
        "    coloraxis_colorbar=dict(title=\"Contagem\"),\n",
        "    geo=dict(scope=\"asia\" # Necessario para nao \"puxar\" o mapa da america do sul\n",
        "    ),\n",
        ")\n",
        "\n",
        "# \"visible\" impede de ampliar o mapa e ver a asia\n",
        "# e fitbounds garante que apenas os locais com dados aparecerão\n",
        "fig1.update_geos(fitbounds=\"locations\", visible=False)\n",
        "fig1.update_layout(width=1000, height=700)\n",
        "# Exibir o gráfico\n",
        "fig1.show()\n"
      ],
      "metadata": {
        "id": "UQzAYhfoZhHG"
      },
      "execution_count": null,
      "outputs": []
    },
    {
      "cell_type": "code",
      "source": [
        "para_bahia = df_migracao[df_migracao[\"Estado onde mora\"] == 'BA']\n",
        "da_bahia = df_migracao[df_migracao[\"Estado de origem\"] == 'BA']\n",
        "\n",
        "contagem_para_bahia = para_bahia[\"Estado de origem\"].value_counts().reset_index().fillna(0)\n",
        "contagem_da_bahia = da_bahia[\"Estado onde mora\"].value_counts().reset_index()\n",
        "\n",
        "fig1 = px.choropleth(\n",
        "    contagem_para_bahia,\n",
        "    geojson=\"https://raw.githubusercontent.com/codeforamerica/click_that_hood/master/public/data/brazil-states.geojson\",\n",
        "    locations=\"Estado de origem\",\n",
        "    featureidkey='properties.sigla',\n",
        "    color='count',\n",
        "    color_continuous_scale='Blues',\n",
        "    scope='asia',\n",
        "    title=f'Quantidade de profissionais que migraram para Bahia'\n",
        ")\n",
        "\n",
        "fig1.update_layout(\n",
        "    coloraxis_colorbar=dict(title=\"Count\"),\n",
        "    geo=dict(\n",
        "        showcoastlines=True,\n",
        "        coastlinecolor=\"Black\",\n",
        "        projection_type=\"mercator\"  # Focar apenas na América do Sul\n",
        "    ),\n",
        ")\n",
        "\n",
        "fig1.update_layout(width=1000, height=700)\n",
        "fig1.update_geos(fitbounds=\"locations\", visible=False)\n",
        "fig1.show()\n",
        "\n",
        "# Second plot: Migration from Bahia\n",
        "fig2 = px.choropleth(\n",
        "    contagem_da_bahia,\n",
        "    geojson=\"https://raw.githubusercontent.com/codeforamerica/click_that_hood/master/public/data/brazil-states.geojson\",\n",
        "    locations=\"('P1_i ', 'Estado onde mora')\",\n",
        "    featureidkey='properties.sigla',\n",
        "    color='count',\n",
        "    color_continuous_scale='Blues',\n",
        "    scope='asia',\n",
        "    title='Quantidade de profissionais que migraram da Bahia'\n",
        ")\n",
        "\n",
        "# Set the color for NaN values\n",
        "fig2.update_traces(\n",
        "    coloraxis_colorbar=dict(title=\"Count\"),\n",
        "    color_continuous_scale='Blues',\n",
        "    colorscale='Blues',\n",
        "    nan_color='darkgrey'  # Set NaN values to darkgrey\n",
        ")\n",
        "\n",
        "fig2.update_layout(width=1000, height=700)\n",
        "fig2.update_geos(fitbounds=\"locations\", visible=False)\n",
        "fig2.show()\n"
      ],
      "metadata": {
        "id": "C-tokx4wF7E0"
      },
      "execution_count": null,
      "outputs": []
    },
    {
      "cell_type": "markdown",
      "source": [
        "Fazer mapa dos profissionais por UF"
      ],
      "metadata": {
        "id": "s_CHStN4TUxH"
      }
    },
    {
      "cell_type": "code",
      "source": [
        "# Lista de estados, siglas e populações\n",
        "estados_populacao = [\n",
        "    (\"Rondônia\", \"RO\", \"1.815.278\"),\n",
        "    (\"Acre\", \"AC\", \"906.876\"),\n",
        "    (\"Amazonas\", \"AM\", \"4.269.995\"),\n",
        "    (\"Roraima\", \"RR\", \"652.713\"),\n",
        "    (\"Pará\", \"PA\", \"8.777.124\"),\n",
        "    (\"Amapá\", \"AP\", \"877.613\"),\n",
        "    (\"Tocantins\", \"TO\", \"1.607.363\"),\n",
        "    (\"Maranhão\", \"MA\", \"7.153.262\"),\n",
        "    (\"Piauí\", \"PI\", \"3.289.290\"),\n",
        "    (\"Ceará\", \"CE\", \"9.240.580\"),\n",
        "    (\"Rio Grande do Norte\", \"RN\", \"3.560.903\"),\n",
        "    (\"Paraíba\", \"PB\", \"4.059.905\"),\n",
        "    (\"Pernambuco\", \"PE\", \"9.674.793\"),\n",
        "    (\"Alagoas\", \"AL\", \"3.365.351\"),\n",
        "    (\"Sergipe\", \"SE\", \"2.338.474\"),\n",
        "    (\"Bahia\", \"BA\", \"14.985.284\"),\n",
        "    (\"Minas Gerais\", \"MG\", \"21.411.923\"),\n",
        "    (\"Espírito Santo\", \"ES\", \"4.108.508\"),\n",
        "    (\"Rio de Janeiro\", \"RJ\", \"17.463.349\"),\n",
        "    (\"São Paulo\", \"SP\", \"46.649.132\"),\n",
        "    (\"Paraná\", \"PR\", \"11.597.484\"),\n",
        "    (\"Santa Catarina\", \"SC\", \"7.338.473\"),\n",
        "    (\"Rio Grande do Sul\", \"RS\", \"11.466.630\"),\n",
        "    (\"Mato Grosso do Sul\", \"MS\", \"2.839.188\"),\n",
        "    (\"Mato Grosso\", \"MT\", \"3.567.234\"),\n",
        "    (\"Goiás\", \"GO\", \"7.206.589\"),\n",
        "    (\"Distrito Federal\", \"DF\", \"3.094.325\"),\n",
        "]\n",
        "\n",
        "# Criar o DataFrame\n",
        "df_estados = pd.DataFrame({\n",
        "    \"Estado\": [f\"{estado} ({sigla})\" for estado, sigla, _ in estados_populacao],\n",
        "    \"População\": [populacao for _, _, populacao in estados_populacao]\n",
        "})\n",
        "\n",
        "# Exibir o DataFrame\n",
        "print(df_estados.head(1))"
      ],
      "metadata": {
        "id": "9c6gjrgyTOPm"
      },
      "execution_count": null,
      "outputs": []
    },
    {
      "cell_type": "markdown",
      "source": [
        "### Agrupando profissões"
      ],
      "metadata": {
        "id": "yP0zTTYaF5GV"
      }
    },
    {
      "cell_type": "markdown",
      "source": [
        "Algumas profissões serão agrupadas com base em similaridade de funções (Cientista de Dados, Analista de Dados, Engenheiro de Dados, Software), ou por conveniência devido à baixa frequência de observações (EE e Outro)"
      ],
      "metadata": {
        "id": "jvFtEPLn94bb"
      }
    },
    {
      "cell_type": "code",
      "source": [
        "df.groupby('Cargo')['Cargo'].count()"
      ],
      "metadata": {
        "id": "oAeN96uPENjG"
      },
      "execution_count": null,
      "outputs": []
    },
    {
      "cell_type": "markdown",
      "source": [
        "permitir alterar entre agrupar profissões ou n"
      ],
      "metadata": {
        "id": "zk3xLMLp7V1n"
      }
    },
    {
      "cell_type": "code",
      "source": [
        "analista = ['Analista de Negócios/Business Analyst', 'Analista de BI/BI Analyst', 'Analista de Dados/Data Analyst', 'Analista de Inteligência de Mercado/Market Intelligence']\n",
        "cientista = ['Cientista de Dados/Data Scientist', 'Engenheiro de Machine Learning/ML Engineer/AI Engineer']\n",
        "engenheiro = ['Engenheiro de Dados/Arquiteto de Dados/Data Engineer/Data Architect', 'DBA/Administrador de Banco de Dados', 'Analytics Engineer']\n",
        "ti = ['Analista de Suporte/Analista Técnico', 'Desenvolvedor/ Engenheiro de Software/ Analista de Sistemas']\n",
        "outro = ['Outra Opção', 'Outras Engenharias (não inclui dev)']\n",
        "EE = ['Economista', 'Estatístico']\n",
        "\n",
        "df['Cargo'] = df['Cargo'].replace(analista, 'Analista de Dados')\n",
        "df['Cargo'] = df['Cargo'].replace(cientista, 'Cientista de Dados')\n",
        "df['Cargo'] = df['Cargo'].replace(engenheiro, 'Engenheiro de Dados')\n",
        "df['Cargo'] = df['Cargo'].replace(ti, 'Software')\n",
        "df['Cargo'] = df['Cargo'].replace(outro, 'Outra Opção')\n",
        "df['Cargo'] = df['Cargo'].replace(EE, 'EE')\n",
        "\n",
        "df.groupby('Cargo')['Cargo'].count()"
      ],
      "metadata": {
        "id": "csb5urCBwJRO"
      },
      "execution_count": null,
      "outputs": []
    },
    {
      "cell_type": "markdown",
      "source": [
        "### Etnia na área de dados vs na população brasileira e discrepâncias entre etnias"
      ],
      "metadata": {
        "id": "0WBpZZRm-usO"
      }
    },
    {
      "cell_type": "markdown",
      "source": [
        "Existe uma diferença na proporção de etnias na área. Entretanto, para verificar se essa diferença está de acordo com a diferença existente na população brasileira vamos usar dados do censo do IBGE de 2022"
      ],
      "metadata": {
        "id": "XM9viDYh-6FO"
      }
    },
    {
      "cell_type": "code",
      "source": [
        "fig = px.histogram(\n",
        "    df,\n",
        "    x='Idade',\n",
        "    color_discrete_sequence=['#00f9af']\n",
        ")\n",
        "\n",
        "# Customize the layout\n",
        "fig.update_layout(\n",
        "    template=\"plotly_white\",\n",
        "    xaxis_title=\"Idade\",\n",
        "    yaxis_title=\"Frequência\",\n",
        "    bargap=0.2\n",
        ")\n",
        "\n",
        "# Display the histogram\n",
        "fig.show()\n"
      ],
      "metadata": {
        "id": "9OOPvjpVveZP"
      },
      "execution_count": null,
      "outputs": []
    },
    {
      "cell_type": "code",
      "source": [
        "import plotly.graph_objects as go\n",
        "import pandas as pd\n",
        "\n",
        "novo = df.groupby('Faixa salarial resumida').size().reset_index(name='Contagem')\n",
        "novo['Porcentagem'] = (novo['Contagem'] / novo['Contagem'].sum()) * 100\n",
        "\n",
        "novo['Faixa salarial resumida'] = pd.Categorical(novo['Faixa salarial resumida'], categories=ordem_faixas_resumida, ordered=True)\n",
        "novo.sort_values(by='Faixa salarial resumida', inplace=True)\n",
        "\n",
        "# Plotly Bar Chart\n",
        "fig = go.Figure()\n",
        "\n",
        "fig.add_trace(go.Bar(\n",
        "    x=novo['Faixa salarial resumida'],  # Categorical x-axis\n",
        "    y=novo['Contagem'],                 # Bar heights\n",
        "    text=[f'{p:.1f}%' for p in novo['Porcentagem']],  # Percentages as text\n",
        "    textposition='outside',             # Position text above bars\n",
        "    marker_color='black'                # Bar color\n",
        "))\n",
        "\n",
        "# Layout settings\n",
        "fig.update_layout(\n",
        "    template=\"plotly_dark\",\n",
        "    title='Contagem de Pessoas por Faixa Salarial',\n",
        "    xaxis_title='Faixa Salarial',\n",
        "    yaxis_title='Contagem',\n",
        "    xaxis=dict(categoryorder='array', categoryarray=ordem_faixas_resumida),  # Enforce custom order\n",
        "    yaxis=dict(showgrid=True)\n",
        ")\n",
        "\n",
        "# Display the chart\n",
        "fig.show()\n"
      ],
      "metadata": {
        "id": "wC8IjxgufiRB"
      },
      "execution_count": null,
      "outputs": []
    },
    {
      "cell_type": "code",
      "source": [
        "novo = df.groupby('Faixa salarial resumida').size().reset_index(name='Contagem')\n",
        "novo['Porcentagem'] = (novo['Contagem'] / novo['Contagem'].sum()) * 100\n",
        "\n",
        "novo['Faixa salarial resumida'] = pd.Categorical(novo['Faixa salarial resumida'], categories=ordem_faixas_resumida, ordered=True)\n",
        "novo.sort_values(by='Faixa salarial resumida', inplace=True)\n",
        "\n",
        "# Plotly Bar Chart\n",
        "fig = go.Figure()\n",
        "\n",
        "fig.add_trace(go.Bar(\n",
        "    x=novo['Faixa salarial resumida'],  # Categorical x-axis\n",
        "    y=novo['Contagem'],                 # Bar heights\n",
        "    text=[f'{p:.1f}%' for p in novo['Porcentagem']],  # Percentages as text\n",
        "    textposition='outside',             # Position text above bars\n",
        "    marker_color='black'                # Bar color\n",
        "))\n",
        "\n",
        "# Layout settings\n",
        "fig.update_layout(\n",
        "    template=\"plotly_dark\",\n",
        "    title='Contagem de Pessoas por Faixa Salarial',\n",
        "    xaxis_title='Faixa Salarial',\n",
        "    yaxis_title='Contagem',\n",
        "    xaxis=dict(categoryorder='array', categoryarray=ordem_faixas_resumida),  # Enforce custom order\n",
        "    yaxis=dict(showgrid=True)\n",
        ")\n",
        "\n",
        "# Display the chart\n",
        "fig.show()"
      ],
      "metadata": {
        "id": "XhcBJkEFPp8N"
      },
      "execution_count": null,
      "outputs": []
    },
    {
      "cell_type": "code",
      "source": [
        "fig = px.pie(df, values='Contagem', names='Etnia', template=\"plotly_dark\",)\n",
        "fig.show()"
      ],
      "metadata": {
        "id": "djfAKI_B7V_g"
      },
      "execution_count": null,
      "outputs": []
    },
    {
      "cell_type": "code",
      "source": [
        "contagem_Etnia = df.groupby('Etnia')['Contagem'].count()\n",
        "\n",
        "contagem_Etnia = pd.DataFrame(contagem_Etnia)\n",
        "\n",
        "contagem_Etnia.reset_index(inplace=True)\n",
        "\n",
        "\n",
        "contagem_Etnia['percentual'] = (contagem_Etnia['Contagem'] / contagem_Etnia['Contagem'].sum()) * 100\n",
        "\n",
        "# dados do censo do ibge de 2022\n",
        "df_Etnia = {\n",
        "    \"Etnia\": [\"Parda\", \"Branca\", \"Preta\", \"Indígena\", \"Amarela\"],\n",
        "    \"total\": [92.1, 88.2, 20.7, 1.7, 0.85],\n",
        "    \"percentual\": [45.3, 43.5, 10.2, 0.8, 0.4]\n",
        "}\n",
        "\n",
        "df_Etnia = pd.DataFrame(df_Etnia)\n",
        "df_Etnia"
      ],
      "metadata": {
        "id": "pttGi_MwF6hx"
      },
      "execution_count": null,
      "outputs": []
    },
    {
      "cell_type": "code",
      "source": [],
      "metadata": {
        "id": "sQ2228z4yaVi"
      },
      "execution_count": null,
      "outputs": []
    },
    {
      "cell_type": "code",
      "source": [
        "\n",
        "df_dif = pd.merge(contagem_Etnia , df_Etnia, on='Etnia', suffixes=('_pesquisa', '_brasil'))\n",
        "\n",
        "df_dif['diferenca_absoluta'] = df_dif['percentual_pesquisa'] - df_dif['percentual_brasil']\n",
        "df_dif['diferenca_proporcional'] = np.round(df_dif['percentual_pesquisa']/df_dif['percentual_brasil'], 2)\n",
        "\n",
        "df_dif"
      ],
      "metadata": {
        "id": "4aYLRh4jIJ0z"
      },
      "execution_count": null,
      "outputs": []
    },
    {
      "cell_type": "markdown",
      "source": [
        "Percebemos que os orientais (amarelos) estão sobrerrepresentados. A área de dados possui uma concentração de orientais de 700% do seu estrato na população brasileira, ou seja, 6x maior. Essa análise é válida até a etnia menos representada, os indígenas, com uma concentração de 28%."
      ],
      "metadata": {
        "id": "An0nZUdM_JzN"
      }
    },
    {
      "cell_type": "code",
      "source": [
        "df_dif.sort_values(by='diferenca_proporcional', inplace=True, ascending=True)\n",
        "\n",
        "fig = px.bar(df_dif, x=\"Etnia\", y=\"diferenca_proporcional\",\n",
        "             title=\"Diferença Percentual das Etnias na Área de Dados com a População Brasileira\",\n",
        "             labels={\"Etnia\": \"Raça/Etnia\", \"diferenca_proporcional\": \"Diferença\"},\n",
        "             text=\"diferenca_proporcional\")\n",
        "\n",
        "fig.update_layout(title_x=0.5)\n",
        "fig.show()"
      ],
      "metadata": {
        "id": "mMIMRQyyPunr"
      },
      "execution_count": null,
      "outputs": []
    },
    {
      "cell_type": "code",
      "source": [
        "Idades_Etnia = df.groupby('Etnia')['Idade'].median().sort_values(ascending=True).index\n",
        "\n",
        "fig = px.box(df, x=\"Etnia\", y=\"Idade\",\n",
        "             labels={\"Etnia\": \"Etnia\", \"Idade\": \"Idades\"},\n",
        "             title=\"Boxplot das Idades por Etnia\",\n",
        "             category_orders={\"Etnia\": Idades_Etnia})\n",
        "\n",
        "fig.update_layout(title_x=0.5)\n",
        "fig.show()"
      ],
      "metadata": {
        "id": "Ps46HPWsRxQj"
      },
      "execution_count": null,
      "outputs": []
    },
    {
      "cell_type": "markdown",
      "source": [
        "FEITO"
      ],
      "metadata": {
        "id": "4UEf_ugT2_Br"
      }
    },
    {
      "cell_type": "code",
      "source": [
        "# Crie um dicionário que mapeia as faixas salariais para um valor médio representativo\n",
        "faixa_salario_para_valor = {\n",
        "    'de R$ 8.001/mês a R$ 12.000/mês': 10000,\n",
        "    'de R$ 4.001/mês a R$ 6.000/mês': 5000,\n",
        "    'de R$ 12.001/mês a R$ 16.000/mês': 14000,\n",
        "    'de R$ 6.001/mês a R$ 8.000/mês': 7000,\n",
        "    'de R$ 3.001/mês a R$ 4.000/mês': 3500,\n",
        "    'de R$ 16.001/mês a R$ 20.000/mês': 18000,\n",
        "    'de R$ 2.001/mês a R$ 3.000/mês': 2500,\n",
        "    'de R$ 1.001/mês a R$ 2.000/mês': 1500,\n",
        "    'de R$ 20.001/mês a R$ 25.000/mês': 22500,\n",
        "    'de R$ 25.001/mês a R$ 30.000/mês': 27500,\n",
        "    'de R$ 30.001/mês a R$ 40.000/mês': 35000,\n",
        "    'Acima de R$ 40.001/mês': 40001,\n",
        "    'Menos de R$ 1.000/mês': 500,  # Aproximadamente\n",
        "    'de R$ 101/mês a R$ 2.000/mês': 1500  # Aproximadamente\n",
        "}\n",
        "\n",
        "df['salarios'] = df['Faixa salarial'].map(faixa_salario_para_valor)\n",
        "\n",
        "\n",
        "\n",
        "sal = ['de R$ 1.001/mês a R$ 2.000/mês', 'de R$ 101/mês a R$ 2.000/mês']\n",
        "\n",
        "df['Faixa salarial'] = df['Faixa salarial'].replace(sal, 'de R$ 1.001/mês a R$ 2.000/mês')\n",
        "\n",
        "df.groupby('Faixa salarial')['Faixa salarial'].count()"
      ],
      "metadata": {
        "id": "1SzbCPwDs8Iw"
      },
      "execution_count": null,
      "outputs": []
    },
    {
      "cell_type": "code",
      "source": [
        "df['Experiência'] = df['Experiência'].replace([\"de 4 a 6 anos\", \"de 5 a 6 anos\"], \"de 4 a 6 anos\")\n",
        "df['Experiência'] = df['Experiência'].replace('Não tenho experiência na área de dados', 'Sem experiência')\n",
        "\n",
        "# Ordering by increasing experience\n",
        "ordem_exp = [\n",
        "    \"Sem experiência\",\n",
        "    \"Menos de 1 ano\",\n",
        "    \"de 1 a 2 anos\",\n",
        "    \"de 3 a 4 anos\",\n",
        "    \"de 4 a 6 anos\",\n",
        "    \"de 7 a 10 anos\",\n",
        "    \"Mais de 10 anos\"\n",
        "]\n",
        "\n",
        "# Ordering by increasing salary ranges\n",
        "ordem_faixas = [\n",
        "    \"Menos de R$ 1.000/mês\",\n",
        "    \"de R$ 1.001/mês a R$ 2.000/mês\",\n",
        "    \"de R$ 2.001/mês a R$ 3.000/mês\",\n",
        "    \"de R$ 3.001/mês a R$ 4.000/mês\",\n",
        "    \"de R$ 4.001/mês a R$ 6.000/mês\",\n",
        "    \"de R$ 6.001/mês a R$ 8.000/mês\",\n",
        "    \"de R$ 8.001/mês a R$ 12.000/mês\",\n",
        "    \"de R$ 12.001/mês a R$ 16.000/mês\",\n",
        "    \"de R$ 16.001/mês a R$ 20.000/mês\",\n",
        "    \"de R$ 20.001/mês a R$ 25.000/mês\",\n",
        "    \"de R$ 25.001/mês a R$ 30.000/mês\",\n",
        "    \"de R$ 30.001/mês a R$ 40.000/mês\",\n",
        "    \"Acima de R$ 40.001/mês\",\n",
        "]\n",
        "ordem_faixas_resumida = [\n",
        "    \"< 1k\", \"1k < 2k\", \"2k < 3k\", \"3k < 4k\", \"4k < 6k\", \"6k < 8k\",\n",
        "    \"8k < 12k\", \"12k < 16k\", \"16k < 20k\", \"20k < 25k\", \"25k < 30k\",\n",
        "    \"30k < 40k\", \"> 40k\"\n",
        "]\n",
        "\n",
        "dic_renomear = dict(zip(ordem_faixas, ordem_faixas_resumida))\n",
        "\n",
        "# Apply the mapping to the 'Faixa_Renda' column to create a new one with simplified names\n",
        "df['Faixa salarial resumida'] = df['Faixa salarial'].map(dic_renomear)\n",
        "\n",
        "# Print the updated DataFrame\n",
        "print(df[['Faixa salarial resumida', 'Faixa salarial']].sample(10))"
      ],
      "metadata": {
        "id": "kX59nM8cJ_3y"
      },
      "execution_count": null,
      "outputs": []
    },
    {
      "cell_type": "markdown",
      "source": [
        "As etnias com maiores salários médios"
      ],
      "metadata": {
        "id": "4GP8qCTUBmkE"
      }
    },
    {
      "cell_type": "code",
      "source": [
        "salario_etnia = df.groupby('Etnia')[\"salarios\"].mean().sort_values(ascending=True).index\n",
        "\n",
        "fig = px.box(df, x=\"Etnia\", y=\"salarios\",\n",
        "             labels={\"Etnia\": \"Etnia\", \"salarios\": \"Salários\"},\n",
        "             title=\"Boxplot dos salários Médios por Etnia\",\n",
        "             category_orders={'Etnia': salario_etnia})\n",
        "\n",
        "fig.update_layout(title_x=0.5)\n",
        "fig.show()"
      ],
      "metadata": {
        "id": "zfEcpvoUrG2i"
      },
      "execution_count": null,
      "outputs": []
    },
    {
      "cell_type": "markdown",
      "source": [
        "### Boxplots de idade vs [salário, senioridade, cargo]"
      ],
      "metadata": {
        "id": "zfsEvhFRB3J0"
      }
    },
    {
      "cell_type": "code",
      "source": [
        "list(df.columns)"
      ],
      "metadata": {
        "id": "KgH6_N-z94RD"
      },
      "execution_count": null,
      "outputs": []
    },
    {
      "cell_type": "markdown",
      "source": [
        "Era esperado que, em média, pessoas mais velhas ganham mais e possuam maior senioridade ."
      ],
      "metadata": {
        "id": "37ACWEm8AwBV"
      }
    },
    {
      "cell_type": "code",
      "source": [
        "fig = px.box(df.sort_values(by='salarios'), x='Faixa salarial', y=\"Idade\",\n",
        "             labels={'Faixa salarial': \"Faixa salarial\", \"Idade\": \"Idade\"},\n",
        "             title=\"Boxplot das Idades por Salário\")\n",
        "\n",
        "fig.update_layout(title_x=0.5)\n",
        "fig.update_xaxes(tickangle=90)\n",
        "fig.show()"
      ],
      "metadata": {
        "id": "ya8VQE08L2GB"
      },
      "execution_count": null,
      "outputs": []
    },
    {
      "cell_type": "code",
      "source": [
        "tabela_exp_faixa = pd.crosstab(df['Faixa salarial'], df['Experiência'])\n",
        "\n",
        "tabela_exp_faixa = tabela_exp_faixa.reindex(index=ordem_faixas, columns=ordem_exp, fill_value=0)\n",
        "\n",
        "#tabela_exp_faixa_p = pd.crosstab(df['Experiência'], df['Faixa salarial'], normalize='index')\n",
        "tabela_exp_faixa_p = tabela_exp_faixa.div(tabela_exp_faixa.sum(axis=1), axis=0)\n",
        "\n",
        "\n",
        "\n",
        "#fig = px.imshow(tabela_exp_faixa, labels={'x': 'Faixa salarial', 'y': 'Experiência', 'color': 'Frequência'}, title='Experiência vs Faixa Salarial',color_continuous_scale='Blues')\n",
        "\n",
        "sns.heatmap(tabela_exp_faixa, annot=True, cmap=\"Blues\", fmt=\"d\")\n",
        "plt.title('')\n",
        "plt.xlabel('Região Atual')\n",
        "plt.ylabel('Região de Origem')\n",
        "plt.show()\n",
        "    #annot_kws={\"size\": 8}\n",
        "plt.figure(figsize=(10, 6))\n",
        "sns.heatmap(tabela_exp_faixa_p, annot=True, cmap=\"Blues\", fmt=\".3f\")\n",
        "plt.title('')\n",
        "plt.xlabel('Região Atual')\n",
        "plt.ylabel('Região de Origem')\n",
        "plt.show()"
      ],
      "metadata": {
        "id": "WB-devGO-zu7"
      },
      "execution_count": null,
      "outputs": []
    },
    {
      "cell_type": "code",
      "source": [
        "fig = px.density_heatmap(df, x='Experiência', y='Faixa salarial', marginal_x=\"histogram\", marginal_y=\"histogram\")\n",
        "fig.show()\n",
        "\n",
        "df_exp_faixa_p = tabela_exp_faixa_p.reset_index().melt(\n",
        "    id_vars='Faixa salarial',\n",
        "    var_name='Experiência',\n",
        "    value_name='Proporção'\n",
        ")\n",
        "\n",
        "df_exp_faixa = tabela_exp_faixa.reset_index().melt(\n",
        "    id_vars='Faixa salarial',\n",
        "    var_name='Experiência',\n",
        "    value_name='Absoluto'\n",
        ")\n",
        "df_exp_faixa['Proporção'] = df_exp_faixa_p['Proporção']"
      ],
      "metadata": {
        "id": "8yT_vl5l0bjv"
      },
      "execution_count": null,
      "outputs": []
    },
    {
      "cell_type": "code",
      "source": [
        "fig = px.density_heatmap(\n",
        "    df,\n",
        "    x='Experiência',\n",
        "    y='Faixa salarial',\n",
        "    marginal_x=\"histogram\",\n",
        "    marginal_y=\"histogram\",\n",
        "    category_orders={\n",
        "        \"Experiência\": ordem_exp,\n",
        "        \"Faixa salarial\": ordem_faixas\n",
        "    }\n",
        ")\n",
        "fig.show()"
      ],
      "metadata": {
        "id": "UYXNy8YwD9G7"
      },
      "execution_count": null,
      "outputs": []
    },
    {
      "cell_type": "markdown",
      "source": [
        "### qual?"
      ],
      "metadata": {
        "id": "Hl12ZekNGvAA"
      }
    },
    {
      "cell_type": "code",
      "source": [
        "import plotly.graph_objects as go\n",
        "\n",
        "fig = px.density_heatmap(\n",
        "    df_exp_faixa,\n",
        "    x='Experiência',\n",
        "    y='Faixa salarial',\n",
        "    z='Proporção', # e os histogramas não são gerados corretamente se utilizamos a proporção\n",
        "    histfunc='sum',\n",
        "    color_continuous_scale=\"Blues\", # por algum motivo essa seleção de cores está entrando em conflito com os histogramas: marginal_x=\"histogram\", marginal_y=\"histogram\"\n",
        "    category_orders={\n",
        "        \"Experiência\": ordem_exp,\n",
        "        \"Faixa salarial\": ordem_faixas\n",
        "    }\n",
        ")\n",
        "\n",
        "fig.update_layout(\n",
        "    title=\"Mapa de calor de Experiência vs Faixa Salarial\",\n",
        "    xaxis_title=\"Experiência\",\n",
        "    yaxis_title=\"Faixa Salarial\",\n",
        "    coloraxis_colorbar=dict(title=\"Proporção\")\n",
        ")\n",
        "\n",
        "# Add absolute values as text annotations on the heatmap\n",
        "for i, row in df_exp_faixa.iterrows():\n",
        "    fig.add_trace(\n",
        "        go.Scatter(\n",
        "            x=[row['Experiência']],\n",
        "            y=[row['Faixa salarial']],\n",
        "            text=[f\"{row['Absoluto']}\"],  # Absolute value\n",
        "            mode=\"text\",\n",
        "            textfont=dict(color=\"black\", size=12),  # Adjust font size and color\n",
        "            showlegend=False  # Disable legend for these traces\n",
        "        )\n",
        "    )\n",
        "\n",
        "fig.update_layout(title_x=0.5)\n",
        "fig.show()"
      ],
      "metadata": {
        "id": "E5H1a6PK_Ekj"
      },
      "execution_count": null,
      "outputs": []
    },
    {
      "cell_type": "markdown",
      "source": [
        "esse é mais útil?"
      ],
      "metadata": {
        "id": "4ZgcO2G2HDvI"
      }
    },
    {
      "cell_type": "code",
      "source": [
        "import plotly.graph_objects as go\n",
        "\n",
        "fig = px.density_heatmap(\n",
        "    df_exp_faixa,\n",
        "    x='Faixa salarial',\n",
        "    y='Experiência',\n",
        "    z='Proporção', # e os histogramas não são gerados corretamente se utilizamos a proporção\n",
        "    histfunc='sum',\n",
        "    color_continuous_scale=\"Blues\", # por algum motivo essa seleção de cores está entrando em conflito com os histogramas: marginal_x=\"histogram\", marginal_y=\"histogram\"\n",
        "    category_orders={\n",
        "        \"Experiência\": ordem_exp,\n",
        "        \"Faixa salarial\": ordem_faixas\n",
        "    }\n",
        ")\n",
        "\n",
        "fig.update_layout(\n",
        "    title=\"Mapa de calor de Experiência vs Faixa Salarial\",\n",
        "    xaxis_title=\"Experiência\",\n",
        "    yaxis_title=\"Faixa Salarial\",\n",
        "    coloraxis_colorbar=dict(title=\"Proporção\")\n",
        ")\n",
        "\n",
        "# Add absolute values as text annotations on the heatmap\n",
        "for i, row in df_exp_faixa.iterrows():\n",
        "    fig.add_trace(\n",
        "        go.Scatter(\n",
        "            x=[row['Faixa salarial']],\n",
        "            y=[row['Experiência']],\n",
        "            text=[f\"{row['Absoluto']}\"],  # Absolute value\n",
        "            mode=\"text\",\n",
        "            textfont=dict(color=\"black\", size=12),  # Adjust font size and color\n",
        "            showlegend=False  # Disable legend for these traces\n",
        "        )\n",
        "    )\n",
        "\n",
        "fig.update_layout(title_x=0.5)\n",
        "fig.show()"
      ],
      "metadata": {
        "id": "teM5oCx_Gwqg"
      },
      "execution_count": null,
      "outputs": []
    },
    {
      "cell_type": "code",
      "source": [
        "import plotly.express as px\n",
        "import plotly.graph_objects as go\n",
        "import streamlit as st\n",
        "\n",
        "\n",
        "# Count occurrences and calculate percentages for \"Experiência\"\n",
        "exp_counts = df['Experiência'].value_counts().reindex(ordem_exp).fillna(0)\n",
        "exp_percentages = (exp_counts / len(df)) * 100\n",
        "\n",
        "# Count occurrences and calculate percentages for \"Faixa salarial resumida\"\n",
        "faixa_counts = df['Faixa salarial resumida'].value_counts().reindex(ordem_faixas_resumida).fillna(0)\n",
        "faixa_percentages = (faixa_counts / len(df)) * 100\n",
        "\n",
        "# Plot for \"Experiência\"\n",
        "fig_exp = go.Figure()\n",
        "fig_exp.add_trace(go.Bar(\n",
        "    x=ordem_exp,\n",
        "    y=exp_counts,\n",
        "    text=[f'{p:.1f}%' for p in exp_percentages],\n",
        "    textposition='outside',\n",
        "    marker_color='blue'\n",
        "))\n",
        "fig_exp.update_layout(\n",
        "    title='Distribuição de Experiência',\n",
        "    xaxis_title='Experiência',\n",
        "    yaxis_title='Contagem',\n",
        "    xaxis=dict(tickangle=45)\n",
        ")\n",
        "\n",
        "# Plot for \"Faixa salarial resumida\"\n",
        "fig_faixa = go.Figure()\n",
        "fig_faixa.add_trace(go.Bar(\n",
        "    x=ordem_faixas_resumida,\n",
        "    y=faixa_counts,\n",
        "    text=[f'{p:.1f}%' for p in faixa_percentages],\n",
        "    textposition='outside',\n",
        "    marker_color='orange'\n",
        "))\n",
        "fig_faixa.update_layout(\n",
        "    title='Distribuição de Faixa Salarial',\n",
        "    xaxis_title='Faixa Salarial',\n",
        "    yaxis_title='Contagem',\n",
        "    xaxis=dict(tickangle=45)\n",
        ")\n",
        "\n",
        "# Display in Streamlit\n",
        "st.title(\"Gráficos de Distribuição\")\n",
        "\n",
        "st.subheader(\"Distribuição de Experiência\")\n",
        "st.plotly_chart(fig_exp, use_container_width=True)\n",
        "\n",
        "st.subheader(\"Distribuição de Faixa Salarial\")\n",
        "st.plotly_chart(fig_faixa, use_container_width=True)\n"
      ],
      "metadata": {
        "id": "leXtkJ3sdcBQ"
      },
      "execution_count": null,
      "outputs": []
    },
    {
      "cell_type": "code",
      "source": [
        "fig, axes = plt.subplots(1, 2, figsize=(20, 8))\n",
        "\n",
        "ax0 = sns.countplot(data=df, x='Experiência', order=ordem_exp, ax=axes[0])\n",
        "ax1 = sns.countplot(data=df, x='Faixa salarial resumida', order=ordem_faixas_resumida, ax=axes[1])\n",
        "\n",
        "# Calculate percentage for \"Experiência\" and add percentage on top of bars\n",
        "total_exp = len(df)\n",
        "for p in ax0.patches:\n",
        "    height = p.get_height()\n",
        "    percentage = (height / total_exp) * 100\n",
        "    ax0.text(\n",
        "        p.get_x() + p.get_width() / 2, height + 1, f'{percentage:.1f}%',\n",
        "        ha='center', va='bottom', fontsize=10, color='black'\n",
        "    )\n",
        "\n",
        "# Calculate percentage for \"Faixa Salarial\" and add percentage on top of bars\n",
        "total_faixa = len(df)\n",
        "for p in ax1.patches:\n",
        "    height = p.get_height()\n",
        "    percentage = (height / total_faixa) * 100\n",
        "    ax1.text(\n",
        "        p.get_x() + p.get_width() / 2, height + 1, f'{percentage:.1f}%',\n",
        "        ha='center', va='bottom', fontsize=10, color='black'\n",
        "    )\n",
        "\n",
        "axes[0].set_title('Distribuição de Experiência', fontsize=16)\n",
        "axes[0].set_xlabel('Experiência', fontsize=12)\n",
        "axes[0].set_ylabel('Contagem', fontsize=12)\n",
        "axes[0].tick_params(axis='x', rotation=45)\n",
        "\n",
        "\n",
        "axes[1].set_title('Distribuição de Faixa Salarial', fontsize=16)\n",
        "axes[1].set_xlabel('Contagem', fontsize=12)\n",
        "axes[1].set_ylabel('Faixa Salarial', fontsize=12)\n",
        "axes[1].tick_params(axis='x', rotation=45)\n",
        "\n",
        "plt.tight_layout()\n",
        "plt.show()"
      ],
      "metadata": {
        "id": "POTOj6NbHKHF"
      },
      "execution_count": null,
      "outputs": []
    },
    {
      "cell_type": "markdown",
      "source": [
        "### Continuação"
      ],
      "metadata": {
        "id": "PjbPCWliGyWm"
      }
    },
    {
      "cell_type": "code",
      "source": [
        "fig = px.box(df, x='Nível', y=\"Idade\",\n",
        "             labels={'Nível': \"'Senioridade' atual\", \"Idade\": \"Idade\"},\n",
        "             title=\"Boxplots das Idades por Senioridade\")\n",
        "\n",
        "fig.update_layout(title_x=0.5)\n",
        "fig.show()"
      ],
      "metadata": {
        "id": "ukGt5FwkNjdd"
      },
      "execution_count": null,
      "outputs": []
    },
    {
      "cell_type": "code",
      "source": [
        "idades_cargo = df.groupby('Cargo')[\"Idade\"].mean().sort_values(ascending=True).index\n",
        "\n",
        "fig = px.box(df, x='Cargo', y=\"Idade\",\n",
        "             labels={'Cargo': \"'Cargo' atual\", \"Idade\": \"Idade\"},\n",
        "             title=\"Boxplots das Idades por Cargo\",\n",
        "             category_orders={'Cargo': idades_cargo})\n",
        "\n",
        "fig.update_layout(title_x=0.5)\n",
        "fig.update_xaxes(tickangle = 15, tickfont=dict(size=12))\n",
        "fig.show()"
      ],
      "metadata": {
        "id": "Qfxk8pNJChOx"
      },
      "execution_count": null,
      "outputs": []
    },
    {
      "cell_type": "markdown",
      "source": [
        "### Análise de salários, área de formação, escolaridade, situação no trabalho...\n"
      ],
      "metadata": {
        "id": "G0NL-huD2ww7"
      }
    },
    {
      "cell_type": "markdown",
      "source": [
        "fazer  de \"('P2_k ', 'Você está satisfeito na sua empresa atual?')\" e \"('P2_n ', 'Você pretende mudar de emprego nos próximos 6 meses?')\""
      ],
      "metadata": {
        "id": "ahFugRtUVVU8"
      }
    },
    {
      "cell_type": "markdown",
      "source": [
        "pouco util"
      ],
      "metadata": {
        "id": "AgemBb7MNhKb"
      }
    },
    {
      "cell_type": "code",
      "source": [
        "situacao_cargo = pd.crosstab(df[\"('P2_a ', 'Qual sua situação atual de trabalho?')\"], df['Cargo'], normalize='index')\n",
        "\n",
        "sns.heatmap(situacao_cargo, annot=True, cmap=\"Blues\", fmt=\".2f\")\n",
        "plt.title('Tipo de emprego vs cargo')\n",
        "plt.xlabel('Cargo')\n",
        "plt.ylabel('Tipo de Emprego')\n",
        "plt.show()\n"
      ],
      "metadata": {
        "id": "mH37v_nMWBJL"
      },
      "execution_count": null,
      "outputs": []
    },
    {
      "cell_type": "markdown",
      "source": [
        "Quantidade de cada cargo"
      ],
      "metadata": {
        "id": "EgO-9bzo7Gxs"
      }
    },
    {
      "cell_type": "code",
      "source": [
        "fig = px.pie(df, values='Contagem', names=\"('P2_a ', 'Qual sua situação atual de trabalho?')\")\n",
        "fig.show()"
      ],
      "metadata": {
        "id": "ti1KOMffT_Ol"
      },
      "execution_count": null,
      "outputs": []
    },
    {
      "cell_type": "code",
      "source": [
        "fig = px.pie(df.dropna(subset=['Cargo']), values='Contagem', names='Cargo')\n",
        "fig.show()"
      ],
      "metadata": {
        "id": "fh5gS5sM7GW1"
      },
      "execution_count": null,
      "outputs": []
    },
    {
      "cell_type": "code",
      "source": [
        "fig = px.pie(df.dropna(subset=['Nível']), values='Contagem', names='Nível')\n",
        "fig.show()"
      ],
      "metadata": {
        "id": "EgRdDBlBUkf4"
      },
      "execution_count": null,
      "outputs": []
    },
    {
      "cell_type": "markdown",
      "source": [
        "Salários por cargo e nível de senioridade em ordem crescente de média"
      ],
      "metadata": {
        "id": "PdTXpVdvEU1V"
      }
    },
    {
      "cell_type": "code",
      "source": [
        "nivel_agrupado = df.groupby([\"Cargo\", \"Nível\"], as_index=False)[\"salarios\"].mean()\n",
        "salarios_cargo = df.groupby('Cargo')['salarios'].mean().sort_values(ascending=True).index\n",
        "\n",
        "fig = px.bar(nivel_agrupado, x=\"Cargo\", y=\"salarios\",\n",
        "             labels={\"Cargo\": \"Cargos\", \"salarios\": \"Salários\", \"Nível\": \"Nível\"},\n",
        "             title=\"Salários Médios por Cargos e Nível de Senioridade\",\n",
        "             color=\"Nível\", barmode=\"group\",\n",
        "             category_orders={'Cargo': salarios_cargo})\n",
        "\n",
        "fig.update_layout(title_x=0.5)\n",
        "fig.show()"
      ],
      "metadata": {
        "id": "YF1PQJMmPs-F"
      },
      "execution_count": null,
      "outputs": []
    },
    {
      "cell_type": "markdown",
      "source": [
        "Também era esperado que os salários aumentem conforme o nível de escolaridade, entretanto, é uma surpresa que a média salarial do mestrado e do doutorado sejam tão parecidas, e que existam tantos estudantes de graduação com salários tão altos."
      ],
      "metadata": {
        "id": "qPIuh2l-EjIl"
      }
    },
    {
      "cell_type": "code",
      "source": [
        "escolaridade_salario = df.groupby('Escolaridade')[\"salarios\"].mean().sort_values(ascending=True)\n",
        "\n",
        "fig = px.box(df, x='Escolaridade', y=\"salarios\",\n",
        "             labels={'Escolaridade': \"Grau de Formação\", \"salarios\": \"Salários\"},\n",
        "             title=\"Boxplots dos Salários por Grau de Formação\",\n",
        "             category_orders={'Escolaridade': escolaridade_salario.index})\n",
        "\n",
        "fig.update_layout(title_x=0.5)\n",
        "fig.show()\n",
        "\n",
        "escolaridade_salario"
      ],
      "metadata": {
        "id": "-vunt5lOVGs8"
      },
      "execution_count": null,
      "outputs": []
    },
    {
      "cell_type": "code",
      "source": [
        "df_estudante = df[df['Escolaridade'] == 'Estudante de Graduação']\n",
        "\n",
        "salarios_estudante = df_estudante.groupby('salarios').size().reset_index(name='Contagem')\n",
        "salarios_estudante['Proporção'] = np.round(salarios_estudante['Contagem']/salarios_estudante['Contagem'].sum()*100, 2)\n",
        "\n",
        "print(salarios_estudante)"
      ],
      "metadata": {
        "id": "y_bHduTsFE7Y"
      },
      "execution_count": null,
      "outputs": []
    },
    {
      "cell_type": "code",
      "source": [
        "area_salario = df.groupby('Área')[\"salarios\"].mean().sort_values(ascending=True).index\n",
        "\n",
        "fig = px.box(df, x='Área', y=\"salarios\",\n",
        "             labels={'Área': \"Área de Formação\", \"salarios\": \"Salários\"},\n",
        "             title=\"Boxplots dos Salários por Área de Formação\",\n",
        "             category_orders={'Área': area_salario})\n",
        "\n",
        "fig.update_layout(title_x=0.5)\n",
        "fig.show()"
      ],
      "metadata": {
        "id": "O7a5R14iXkWP"
      },
      "execution_count": null,
      "outputs": []
    },
    {
      "cell_type": "markdown",
      "source": [
        "Computação \"domina\", seguida de engenharias. Estatística/Matemática está em quarto lugar."
      ],
      "metadata": {
        "id": "2y-CF2e9KgxM"
      }
    },
    {
      "cell_type": "code",
      "source": [
        "fig = px.pie(df, values=\"Contagem\", names=\"Área\")\n",
        "fig.show()"
      ],
      "metadata": {
        "id": "aWKc7y_1J7kO"
      },
      "execution_count": null,
      "outputs": []
    },
    {
      "cell_type": "markdown",
      "source": [
        "A menor parte dos profissionais na área não possuem graduação formal. 2/3 possui graduação ou pós-graduação lato sensu."
      ],
      "metadata": {
        "id": "QBWfQL9pKpOT"
      }
    },
    {
      "cell_type": "code",
      "source": [
        "fig = px.pie(df, values=\"Contagem\", names=\"Escolaridade\")\n",
        "fig.show()"
      ],
      "metadata": {
        "id": "WbGOzuN7J712"
      },
      "execution_count": null,
      "outputs": []
    },
    {
      "cell_type": "markdown",
      "source": [
        "### Perguntas específicas?"
      ],
      "metadata": {
        "id": "OaL_1GbecFKi"
      }
    },
    {
      "cell_type": "markdown",
      "source": [
        "Verificar linguagens utilizadas por cargo"
      ],
      "metadata": {
        "id": "Q1lJx-PNR2BO"
      }
    },
    {
      "cell_type": "code",
      "source": [
        "def filtrar_por_categoria(df, categoria):\n",
        "    colunas = [col for col in df.columns if col.startswith(f\"{categoria}\")]\n",
        "    return df[colunas]\n",
        "\n",
        "linguagens_P4_d = filtrar_por_categoria(df, \"('P4_d\")\n",
        "linguagens_P4_d.groupby(\"('P4_d_15 ', 'Não utilizo nenhuma linguagem')\")[\"('P4_d_15 ', 'Não utilizo nenhuma linguagem')\"].count()\n",
        "list(df.columns)\n",
        "linguagens_P4_d"
      ],
      "metadata": {
        "id": "COqbbGjgcGiI"
      },
      "execution_count": null,
      "outputs": []
    },
    {
      "cell_type": "markdown",
      "source": [
        "fig = px.bar(nivel_agrupado, x=\"Cargo\", y=\"salarios\",\n",
        "             labels={\"Cargo\": \"Cargos\", \"salarios\": \"Salários\", \"Nível\": \"Nível\"},\n",
        "             title=\"Salários Médios por Cargos e Nível de Senioridade\",\n",
        "             color=\"Nível\", barmode=\"group\",\n",
        "             category_orders={'Cargo': salarios_cargo})\n",
        "\n",
        "fig.update_layout(title_x=0.5)\n",
        "fig.show()"
      ],
      "metadata": {
        "id": "4ZpE8_52ddlQ"
      }
    },
    {
      "cell_type": "markdown",
      "source": [
        "# Ignorar"
      ],
      "metadata": {
        "id": "ziFCrD21uy-I"
      }
    },
    {
      "cell_type": "code",
      "source": [
        "fig = px.density_heatmap(df, x=\"Idade\", y=\"salarios\", marginal_x=\"histogram\", marginal_y=\"histogram\")\n",
        "\n",
        "fig.update_traces(xbins_size=5, ybins_size=500)\n",
        "fig.show()"
      ],
      "metadata": {
        "id": "NqVi-xqFu0my"
      },
      "execution_count": null,
      "outputs": []
    },
    {
      "cell_type": "code",
      "source": [
        "ax = sns.catplot(data=df, x=\"salarios\", y=\"Idade\")\n",
        "ax.tick_params(axis='x', labelrotation=45)\n",
        "plt.show()"
      ],
      "metadata": {
        "id": "9G35oL-au25Y"
      },
      "execution_count": null,
      "outputs": []
    },
    {
      "cell_type": "markdown",
      "source": [
        "# Para o painel"
      ],
      "metadata": {
        "id": "U4gGfWqBpm-k"
      }
    },
    {
      "cell_type": "code",
      "source": [],
      "metadata": {
        "id": "bgcC6aXKpmVc"
      },
      "execution_count": null,
      "outputs": []
    },
    {
      "cell_type": "code",
      "source": [],
      "metadata": {
        "id": "qwEMoc9hJqZm"
      },
      "execution_count": null,
      "outputs": []
    },
    {
      "cell_type": "code",
      "source": [],
      "metadata": {
        "id": "oy0eZVPdANRU"
      },
      "execution_count": null,
      "outputs": []
    }
  ],
  "metadata": {
    "colab": {
      "provenance": [],
      "collapsed_sections": [
        "y0AsMOtHEVoG",
        "ziFCrD21uy-I",
        "U4gGfWqBpm-k"
      ]
    },
    "kernelspec": {
      "display_name": "Python 3",
      "name": "python3"
    },
    "language_info": {
      "name": "python"
    }
  },
  "nbformat": 4,
  "nbformat_minor": 0
}